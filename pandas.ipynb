{
 "nbformat": 4,
 "nbformat_minor": 2,
 "metadata": {
  "language_info": {
   "name": "python",
   "codemirror_mode": {
    "name": "ipython",
    "version": 3
   },
   "version": "3.6.7"
  },
  "orig_nbformat": 2,
  "file_extension": ".py",
  "mimetype": "text/x-python",
  "name": "python",
  "npconvert_exporter": "python",
  "pygments_lexer": "ipython3",
  "version": 3
 },
 "cells": [
  {
   "cell_type": "markdown",
   "execution_count": null,
   "metadata": {},
   "outputs": [],
   "source": [
    "pandas - **pan**el **da**ta\n",
    "\n",
    "## Creating Pandas Dataframes\n",
    "\n",
    "Pandas Dataframes are widely used to store data. Its like a 2-dim array. Works well with `numpy`.\n",
    "\n",
    "Firstly, pandas must be imported.\n",
    "\n",
    "Then a new, empty dataframe can be created with `Dataframe()`."
   ]
  },
  {
   "cell_type": "code",
   "execution_count": 1,
   "metadata": {},
   "outputs": [
    {
     "name": "stdout",
     "output_type": "stream",
     "text": "Empty DataFrame\nColumns: []\nIndex: []\n"
    }
   ],
   "source": [
    "import pandas as pd\n",
    "\n",
    "df = pd.DataFrame()\n",
    "print(df)"
   ]
  },
  {
   "cell_type": "markdown",
   "execution_count": null,
   "metadata": {},
   "outputs": [],
   "source": [
    "We can also create a new dataframe with column names only."
   ]
  },
  {
   "cell_type": "code",
   "execution_count": 2,
   "metadata": {},
   "outputs": [
    {
     "data": {
      "text/html": "<div>\n<style scoped>\n    .dataframe tbody tr th:only-of-type {\n        vertical-align: middle;\n    }\n\n    .dataframe tbody tr th {\n        vertical-align: top;\n    }\n\n    .dataframe thead th {\n        text-align: right;\n    }\n</style>\n<table border=\"1\" class=\"dataframe\">\n  <thead>\n    <tr style=\"text-align: right;\">\n      <th></th>\n      <th>x</th>\n      <th>y</th>\n    </tr>\n  </thead>\n  <tbody>\n  </tbody>\n</table>\n</div>",
      "text/plain": "Empty DataFrame\nColumns: [x, y]\nIndex: []"
     },
     "execution_count": 2,
     "metadata": {},
     "output_type": "execute_result"
    }
   ],
   "source": [
    "pd.DataFrame(columns=['x','y'])\n"
   ]
  },
  {
   "cell_type": "markdown",
   "execution_count": null,
   "metadata": {},
   "outputs": [],
   "source": [
    "## Filling the dataframe\n",
    "\n",
    "We can pass a dictionary.\n",
    "\n",
    "Note: if the dictionary contains values, these must be in an array! Even for single values (e.g. `[25]` )!"
   ]
  },
  {
   "cell_type": "code",
   "execution_count": 3,
   "metadata": {},
   "outputs": [
    {
     "name": "stdout",
     "output_type": "stream",
     "text": "name  age\n0   luc   25\n1  miri   24\n2  benz   14\n"
    }
   ],
   "source": [
    "#Dictionary with 2 columns and multiple entries:\n",
    "dic = {'name': ['luc', 'miri', 'benz'], 'age': [25, 24, 14] }\n",
    "\n",
    "#Fill dict into dataframe:\n",
    "df = pd.DataFrame(dic)\n",
    "\n",
    "print(df)"
   ]
  },
  {
   "cell_type": "markdown",
   "execution_count": null,
   "metadata": {},
   "outputs": [],
   "source": [
    "## Accessing the dataframe\n",
    "\n",
    "1. We can view the first top entries with `head()` or the bottom entries with `tail()`."
   ]
  },
  {
   "cell_type": "code",
   "execution_count": 4,
   "metadata": {},
   "outputs": [
    {
     "data": {
      "text/html": "<div>\n<style scoped>\n    .dataframe tbody tr th:only-of-type {\n        vertical-align: middle;\n    }\n\n    .dataframe tbody tr th {\n        vertical-align: top;\n    }\n\n    .dataframe thead th {\n        text-align: right;\n    }\n</style>\n<table border=\"1\" class=\"dataframe\">\n  <thead>\n    <tr style=\"text-align: right;\">\n      <th></th>\n      <th>name</th>\n      <th>age</th>\n    </tr>\n  </thead>\n  <tbody>\n    <tr>\n      <td>0</td>\n      <td>luc</td>\n      <td>25</td>\n    </tr>\n    <tr>\n      <td>1</td>\n      <td>miri</td>\n      <td>24</td>\n    </tr>\n  </tbody>\n</table>\n</div>",
      "text/plain": "   name  age\n0   luc   25\n1  miri   24"
     },
     "execution_count": 4,
     "metadata": {},
     "output_type": "execute_result"
    }
   ],
   "source": [
    "#Show the top 2 rows:\n",
    "df.head(2)"
   ]
  },
  {
   "cell_type": "code",
   "execution_count": 5,
   "metadata": {},
   "outputs": [
    {
     "data": {
      "text/html": "<div>\n<style scoped>\n    .dataframe tbody tr th:only-of-type {\n        vertical-align: middle;\n    }\n\n    .dataframe tbody tr th {\n        vertical-align: top;\n    }\n\n    .dataframe thead th {\n        text-align: right;\n    }\n</style>\n<table border=\"1\" class=\"dataframe\">\n  <thead>\n    <tr style=\"text-align: right;\">\n      <th></th>\n      <th>name</th>\n      <th>age</th>\n    </tr>\n  </thead>\n  <tbody>\n    <tr>\n      <td>1</td>\n      <td>miri</td>\n      <td>24</td>\n    </tr>\n    <tr>\n      <td>2</td>\n      <td>benz</td>\n      <td>14</td>\n    </tr>\n  </tbody>\n</table>\n</div>",
      "text/plain": "   name  age\n1  miri   24\n2  benz   14"
     },
     "execution_count": 5,
     "metadata": {},
     "output_type": "execute_result"
    }
   ],
   "source": [
    "#Show the bottom 2 rows:\n",
    "df.tail(2)"
   ]
  },
  {
   "cell_type": "markdown",
   "execution_count": null,
   "metadata": {},
   "outputs": [],
   "source": [
    "2. We can view any column by passing the name of the column."
   ]
  },
  {
   "cell_type": "code",
   "execution_count": 6,
   "metadata": {},
   "outputs": [
    {
     "data": {
      "text/plain": "0    25\n1    24\n2    14\nName: age, dtype: int64"
     },
     "execution_count": 6,
     "metadata": {},
     "output_type": "execute_result"
    }
   ],
   "source": [
    "#Show the column 'age':\n",
    "df['age']"
   ]
  },
  {
   "cell_type": "markdown",
   "execution_count": null,
   "metadata": {},
   "outputs": [],
   "source": [
    "3. We can randomly sample a number of dataframe entries, by using `sample()`"
   ]
  },
  {
   "cell_type": "code",
   "execution_count": 7,
   "metadata": {},
   "outputs": [
    {
     "data": {
      "text/html": "<div>\n<style scoped>\n    .dataframe tbody tr th:only-of-type {\n        vertical-align: middle;\n    }\n\n    .dataframe tbody tr th {\n        vertical-align: top;\n    }\n\n    .dataframe thead th {\n        text-align: right;\n    }\n</style>\n<table border=\"1\" class=\"dataframe\">\n  <thead>\n    <tr style=\"text-align: right;\">\n      <th></th>\n      <th>name</th>\n      <th>age</th>\n    </tr>\n  </thead>\n  <tbody>\n    <tr>\n      <td>0</td>\n      <td>luc</td>\n      <td>25</td>\n    </tr>\n    <tr>\n      <td>2</td>\n      <td>benz</td>\n      <td>14</td>\n    </tr>\n  </tbody>\n</table>\n</div>",
      "text/plain": "   name  age\n0   luc   25\n2  benz   14"
     },
     "execution_count": 7,
     "metadata": {},
     "output_type": "execute_result"
    }
   ],
   "source": [
    "df.sample(2)"
   ]
  },
  {
   "cell_type": "markdown",
   "execution_count": null,
   "metadata": {},
   "outputs": [],
   "source": [
    "4. We can extract a row by its index, if we use ` iloc[index]` (indexlocation)"
   ]
  },
  {
   "cell_type": "code",
   "execution_count": 42,
   "metadata": {},
   "outputs": [
    {
     "data": {
      "text/plain": "name        benz\nage           14\nSolinger    True\nName: 2, dtype: object"
     },
     "execution_count": 42,
     "metadata": {},
     "output_type": "execute_result"
    }
   ],
   "source": [
    "#output row at index=2:\n",
    "df.iloc[2]"
   ]
  },
  {
   "cell_type": "markdown",
   "execution_count": null,
   "metadata": {},
   "outputs": [],
   "source": [
    "5. We can loop through the rows of a dataframe using `iterrows()`"
   ]
  },
  {
   "cell_type": "code",
   "execution_count": 43,
   "metadata": {},
   "outputs": [
    {
     "name": "stdout",
     "output_type": "stream",
     "text": "0\nname         luc\nage           25\nSolinger    True\nName: 0, dtype: object\n1\nname         miri\nage            24\nSolinger    False\nName: 1, dtype: object\n2\nname        benz\nage           14\nSolinger    True\nName: 2, dtype: object\n3\nname        freddy\nage             30\nSolinger     False\nName: 3, dtype: object\n"
    }
   ],
   "source": [
    "for index, row in df.iterrows():\n",
    "    print(index)\n",
    "    print(row)"
   ]
  },
  {
   "cell_type": "markdown",
   "execution_count": null,
   "metadata": {},
   "outputs": [],
   "source": [
    "## Turning dataframe into numpy\n",
    "\n",
    "We can turn a dataframe (or just a column) into a numpy array by using `to_numpy()`.\n",
    "\n",
    "(Alternative: `values` would work too)"
   ]
  },
  {
   "cell_type": "code",
   "execution_count": 9,
   "metadata": {},
   "outputs": [
    {
     "name": "stdout",
     "output_type": "stream",
     "text": "[['luc' 25]\n ['miri' 24]\n ['benz' 14]]\n[25 24 14]\n[25 24 14]\n"
    }
   ],
   "source": [
    "#One (preferred) way of doing it:\n",
    "print(df.to_numpy())\n",
    "\n",
    "#Turning only column to numpy array:\n",
    "print(df['age'].to_numpy())\n",
    "\n",
    "#Alternative:\n",
    "print(df['age'].values)"
   ]
  },
  {
   "cell_type": "markdown",
   "execution_count": null,
   "metadata": {},
   "outputs": [],
   "source": [
    "We can also turn a column (or multiple columns) into separate dataframes by using the `[[ ]]` notation."
   ]
  },
  {
   "cell_type": "code",
   "execution_count": 10,
   "metadata": {},
   "outputs": [
    {
     "data": {
      "text/html": "<div>\n<style scoped>\n    .dataframe tbody tr th:only-of-type {\n        vertical-align: middle;\n    }\n\n    .dataframe tbody tr th {\n        vertical-align: top;\n    }\n\n    .dataframe thead th {\n        text-align: right;\n    }\n</style>\n<table border=\"1\" class=\"dataframe\">\n  <thead>\n    <tr style=\"text-align: right;\">\n      <th></th>\n      <th>age</th>\n      <th>name</th>\n    </tr>\n  </thead>\n  <tbody>\n    <tr>\n      <td>0</td>\n      <td>25</td>\n      <td>luc</td>\n    </tr>\n    <tr>\n      <td>1</td>\n      <td>24</td>\n      <td>miri</td>\n    </tr>\n    <tr>\n      <td>2</td>\n      <td>14</td>\n      <td>benz</td>\n    </tr>\n  </tbody>\n</table>\n</div>",
      "text/plain": "   age  name\n0   25   luc\n1   24  miri\n2   14  benz"
     },
     "execution_count": 10,
     "metadata": {},
     "output_type": "execute_result"
    }
   ],
   "source": [
    "#This df1 is a new dataframe that consists of the df-columns 'age' and 'name':\n",
    "df1 = df[['age', 'name']]\n",
    "df1"
   ]
  },
  {
   "cell_type": "markdown",
   "execution_count": null,
   "metadata": {},
   "outputs": [],
   "source": [
    "## Adding a row\n",
    "\n",
    "If we want to add a new row, we must turn it into a dataframe first, then we can `append` them.\n",
    "\n",
    "Set `ignore_index = True` to keep an ascending index order of the enlarged dataframe.\n",
    "\n",
    "Set `ignore_index = False` to keep the index order of the appended dataframe within the enlarged dataframe."
   ]
  },
  {
   "cell_type": "code",
   "execution_count": 11,
   "metadata": {},
   "outputs": [
    {
     "name": "stdout",
     "output_type": "stream",
     "text": "name  age\n0  freddy   30\n"
    },
    {
     "data": {
      "text/html": "<div>\n<style scoped>\n    .dataframe tbody tr th:only-of-type {\n        vertical-align: middle;\n    }\n\n    .dataframe tbody tr th {\n        vertical-align: top;\n    }\n\n    .dataframe thead th {\n        text-align: right;\n    }\n</style>\n<table border=\"1\" class=\"dataframe\">\n  <thead>\n    <tr style=\"text-align: right;\">\n      <th></th>\n      <th>name</th>\n      <th>age</th>\n    </tr>\n  </thead>\n  <tbody>\n    <tr>\n      <td>0</td>\n      <td>luc</td>\n      <td>25</td>\n    </tr>\n    <tr>\n      <td>1</td>\n      <td>miri</td>\n      <td>24</td>\n    </tr>\n    <tr>\n      <td>2</td>\n      <td>benz</td>\n      <td>14</td>\n    </tr>\n    <tr>\n      <td>3</td>\n      <td>freddy</td>\n      <td>30</td>\n    </tr>\n  </tbody>\n</table>\n</div>",
      "text/plain": "     name  age\n0     luc   25\n1    miri   24\n2    benz   14\n3  freddy   30"
     },
     "execution_count": 11,
     "metadata": {},
     "output_type": "execute_result"
    }
   ],
   "source": [
    "#The new row must be a dataframe first:\n",
    "#Note, that when turning a dict into a dataframe, all values (even single values), must be in an array!\n",
    "one_new_row = pd.DataFrame({'name': 'freddy', 'age': [30]})\n",
    "print(one_new_row)\n",
    "\n",
    "#Now, using append, this dataframe can be glued to the bottom of the dataframe df, wobei die Indexfolge von df übernommen wird:\n",
    "df = df.append(one_new_row, ignore_index=True)\n",
    "df\n",
    "\n",
    "\n",
    "\n"
   ]
  },
  {
   "cell_type": "markdown",
   "execution_count": null,
   "metadata": {},
   "outputs": [],
   "source": [
    "## Adding a column\n",
    "\n",
    "We can simply add a column to a dataframe by calling the dataframe with the new column name and assigning it the values.\n",
    "\n",
    "If this column already exists, it will be overwritten with the given values.\n",
    "\n"
   ]
  },
  {
   "cell_type": "code",
   "execution_count": 12,
   "metadata": {},
   "outputs": [
    {
     "data": {
      "text/html": "<div>\n<style scoped>\n    .dataframe tbody tr th:only-of-type {\n        vertical-align: middle;\n    }\n\n    .dataframe tbody tr th {\n        vertical-align: top;\n    }\n\n    .dataframe thead th {\n        text-align: right;\n    }\n</style>\n<table border=\"1\" class=\"dataframe\">\n  <thead>\n    <tr style=\"text-align: right;\">\n      <th></th>\n      <th>name</th>\n      <th>age</th>\n      <th>Solinger</th>\n    </tr>\n  </thead>\n  <tbody>\n    <tr>\n      <td>0</td>\n      <td>luc</td>\n      <td>25</td>\n      <td>True</td>\n    </tr>\n    <tr>\n      <td>1</td>\n      <td>miri</td>\n      <td>24</td>\n      <td>False</td>\n    </tr>\n    <tr>\n      <td>2</td>\n      <td>benz</td>\n      <td>14</td>\n      <td>True</td>\n    </tr>\n    <tr>\n      <td>3</td>\n      <td>freddy</td>\n      <td>30</td>\n      <td>False</td>\n    </tr>\n  </tbody>\n</table>\n</div>",
      "text/plain": "     name  age  Solinger\n0     luc   25      True\n1    miri   24     False\n2    benz   14      True\n3  freddy   30     False"
     },
     "execution_count": 12,
     "metadata": {},
     "output_type": "execute_result"
    }
   ],
   "source": [
    "df['Solinger'] = [True, False, True, False]\n",
    "df"
   ]
  },
  {
   "cell_type": "markdown",
   "execution_count": null,
   "metadata": {},
   "outputs": [],
   "source": [
    "## Turning Dataframe into SQLite Database\n",
    "\n",
    "Conversely, we can turn a pandas dataframe back into a SQLite database table by using `to_sql()`.\n",
    "\n",
    "First, we need to specify which database. We create a connection to the database file. It will be created, if no database exists.\n",
    "\n",
    "`to_sql()` will write the dataframe into a new table with name `family_locations`. If this table exists, it will be replaced. The indizes of the dataframe will not get a separate column, when setting `index = False`.\n"
   ]
  },
  {
   "cell_type": "code",
   "execution_count": 13,
   "metadata": {},
   "outputs": [],
   "source": [
    "import sqlite3\n",
    "\n",
    "#Specify database location; create if doesn't exist:\n",
    "con = sqlite3.connect(\"example.db\")\n",
    "\n",
    "#Turn dataframe into a new table in the database; replace if it already exists; don't mind putting the indizes into it too:\n",
    "df.to_sql('family_locations', con, if_exists='replace', index=False)\n",
    "\n",
    "#write into database:\n",
    "con.commit()\n",
    "\n",
    "# close connection:\n",
    "con.close()"
   ]
  },
  {
   "cell_type": "markdown",
   "execution_count": null,
   "metadata": {},
   "outputs": [],
   "source": [
    "## Turning SQLite Database into Dataframe\n",
    "\n",
    "We can turn a SQLite database into a pandas dataframe by using `read_sql_query()` and passing the cursor."
   ]
  },
  {
   "cell_type": "code",
   "execution_count": 14,
   "metadata": {},
   "outputs": [
    {
     "data": {
      "text/html": "<div>\n<style scoped>\n    .dataframe tbody tr th:only-of-type {\n        vertical-align: middle;\n    }\n\n    .dataframe tbody tr th {\n        vertical-align: top;\n    }\n\n    .dataframe thead th {\n        text-align: right;\n    }\n</style>\n<table border=\"1\" class=\"dataframe\">\n  <thead>\n    <tr style=\"text-align: right;\">\n      <th></th>\n      <th>name</th>\n      <th>age</th>\n      <th>Solinger</th>\n    </tr>\n  </thead>\n  <tbody>\n    <tr>\n      <td>0</td>\n      <td>luc</td>\n      <td>25</td>\n      <td>1</td>\n    </tr>\n    <tr>\n      <td>1</td>\n      <td>miri</td>\n      <td>24</td>\n      <td>0</td>\n    </tr>\n    <tr>\n      <td>2</td>\n      <td>benz</td>\n      <td>14</td>\n      <td>1</td>\n    </tr>\n    <tr>\n      <td>3</td>\n      <td>freddy</td>\n      <td>30</td>\n      <td>0</td>\n    </tr>\n  </tbody>\n</table>\n</div>",
      "text/plain": "     name  age  Solinger\n0     luc   25         1\n1    miri   24         0\n2    benz   14         1\n3  freddy   30         0"
     },
     "execution_count": 14,
     "metadata": {},
     "output_type": "execute_result"
    }
   ],
   "source": [
    "#connect to SQlite database:\n",
    "con = sqlite3.connect(\"example.db\")\n",
    "\n",
    "#turn everything from the database into a dataframe:\n",
    "family_df = pd.read_sql_query(\"select * from family_locations;\", con)\n",
    "\n",
    "#close connection:\n",
    "con.close()\n",
    "\n",
    "family_df"
   ]
  },
  {
   "cell_type": "markdown",
   "execution_count": null,
   "metadata": {},
   "outputs": [],
   "source": [
    "## Turning Dataframe into other files\n",
    "\n",
    "`to_x()` fill turn the dataframe into many more files."
   ]
  },
  {
   "cell_type": "code",
   "execution_count": 15,
   "metadata": {},
   "outputs": [],
   "source": [
    "#Turn dataframe into a json file:\n",
    "df.to_json('example.json')\n",
    "\n",
    "#Turn dataframe into a csv file:\n",
    "df.to_csv('example.csv')"
   ]
  },
  {
   "cell_type": "markdown",
   "execution_count": null,
   "metadata": {},
   "outputs": [],
   "source": [
    "## Droping or filling in `NaN`-values\n",
    "\n",
    "Sometimes the dataframe holds `NaN`-values, to mark that there is no value given. This is often found in real world data sets."
   ]
  },
  {
   "cell_type": "code",
   "execution_count": 16,
   "metadata": {},
   "outputs": [
    {
     "data": {
      "text/html": "<div>\n<style scoped>\n    .dataframe tbody tr th:only-of-type {\n        vertical-align: middle;\n    }\n\n    .dataframe tbody tr th {\n        vertical-align: top;\n    }\n\n    .dataframe thead th {\n        text-align: right;\n    }\n</style>\n<table border=\"1\" class=\"dataframe\">\n  <thead>\n    <tr style=\"text-align: right;\">\n      <th></th>\n      <th>id</th>\n      <th>val1</th>\n    </tr>\n  </thead>\n  <tbody>\n    <tr>\n      <td>0</td>\n      <td>observ_1</td>\n      <td>42.3</td>\n    </tr>\n    <tr>\n      <td>1</td>\n      <td>observ_2</td>\n      <td>NaN</td>\n    </tr>\n    <tr>\n      <td>2</td>\n      <td>observ_3</td>\n      <td>NaN</td>\n    </tr>\n    <tr>\n      <td>3</td>\n      <td>observ_4</td>\n      <td>12.3</td>\n    </tr>\n    <tr>\n      <td>4</td>\n      <td>observ_5</td>\n      <td>82.2</td>\n    </tr>\n  </tbody>\n</table>\n</div>",
      "text/plain": "         id  val1\n0  observ_1  42.3\n1  observ_2   NaN\n2  observ_3   NaN\n3  observ_4  12.3\n4  observ_5  82.2"
     },
     "execution_count": 16,
     "metadata": {},
     "output_type": "execute_result"
    }
   ],
   "source": [
    "import numpy as np\n",
    "\n",
    "#Given a dataframe with NaN-values:\n",
    "data1 = pd.DataFrame({'id': ['observ_1', 'observ_2', 'observ_3', 'observ_4', 'observ_5'], 'val1': [42.3, np.nan, np.nan, 12.3, 82.2]})\n",
    "data1"
   ]
  },
  {
   "cell_type": "markdown",
   "execution_count": null,
   "metadata": {},
   "outputs": [],
   "source": [
    "These row objects with `NaN`-values are not of importance and can be dropped with `dropna()`"
   ]
  },
  {
   "cell_type": "code",
   "execution_count": 17,
   "metadata": {},
   "outputs": [
    {
     "data": {
      "text/html": "<div>\n<style scoped>\n    .dataframe tbody tr th:only-of-type {\n        vertical-align: middle;\n    }\n\n    .dataframe tbody tr th {\n        vertical-align: top;\n    }\n\n    .dataframe thead th {\n        text-align: right;\n    }\n</style>\n<table border=\"1\" class=\"dataframe\">\n  <thead>\n    <tr style=\"text-align: right;\">\n      <th></th>\n      <th>id</th>\n      <th>val1</th>\n    </tr>\n  </thead>\n  <tbody>\n    <tr>\n      <td>0</td>\n      <td>observ_1</td>\n      <td>42.3</td>\n    </tr>\n    <tr>\n      <td>3</td>\n      <td>observ_4</td>\n      <td>12.3</td>\n    </tr>\n    <tr>\n      <td>4</td>\n      <td>observ_5</td>\n      <td>82.2</td>\n    </tr>\n  </tbody>\n</table>\n</div>",
      "text/plain": "         id  val1\n0  observ_1  42.3\n3  observ_4  12.3\n4  observ_5  82.2"
     },
     "execution_count": 17,
     "metadata": {},
     "output_type": "execute_result"
    }
   ],
   "source": [
    "#Drop all row objects with NaN-values:\n",
    "data1.dropna()"
   ]
  },
  {
   "cell_type": "markdown",
   "execution_count": null,
   "metadata": {},
   "outputs": [],
   "source": [
    "Or we can fill the `NaN`-values with a 0 by using `fill.na(value=0)`"
   ]
  },
  {
   "cell_type": "code",
   "execution_count": 18,
   "metadata": {},
   "outputs": [
    {
     "data": {
      "text/html": "<div>\n<style scoped>\n    .dataframe tbody tr th:only-of-type {\n        vertical-align: middle;\n    }\n\n    .dataframe tbody tr th {\n        vertical-align: top;\n    }\n\n    .dataframe thead th {\n        text-align: right;\n    }\n</style>\n<table border=\"1\" class=\"dataframe\">\n  <thead>\n    <tr style=\"text-align: right;\">\n      <th></th>\n      <th>id</th>\n      <th>val1</th>\n    </tr>\n  </thead>\n  <tbody>\n    <tr>\n      <td>0</td>\n      <td>observ_1</td>\n      <td>42.3</td>\n    </tr>\n    <tr>\n      <td>1</td>\n      <td>observ_2</td>\n      <td>0.0</td>\n    </tr>\n    <tr>\n      <td>2</td>\n      <td>observ_3</td>\n      <td>0.0</td>\n    </tr>\n    <tr>\n      <td>3</td>\n      <td>observ_4</td>\n      <td>12.3</td>\n    </tr>\n    <tr>\n      <td>4</td>\n      <td>observ_5</td>\n      <td>82.2</td>\n    </tr>\n  </tbody>\n</table>\n</div>",
      "text/plain": "         id  val1\n0  observ_1  42.3\n1  observ_2   0.0\n2  observ_3   0.0\n3  observ_4  12.3\n4  observ_5  82.2"
     },
     "execution_count": 18,
     "metadata": {},
     "output_type": "execute_result"
    }
   ],
   "source": [
    "data1.fillna(value=0)"
   ]
  },
  {
   "cell_type": "markdown",
   "execution_count": null,
   "metadata": {},
   "outputs": [],
   "source": [
    "In cases such as time series, we can also fill in the `NaN`-values with the value immediately after (`fill.na(method='bfill')` for *backwardfill*) or with the value immediately before (`fill.na(method='ffill')` for *forwardfill*) \n",
    "\n",
    "If there are multiple `NaN`-values behind eachother, then the last non-`NaN`-value or the first non-`NaN`-value respectively will be used."
   ]
  },
  {
   "cell_type": "code",
   "execution_count": 19,
   "metadata": {},
   "outputs": [
    {
     "data": {
      "text/html": "<div>\n<style scoped>\n    .dataframe tbody tr th:only-of-type {\n        vertical-align: middle;\n    }\n\n    .dataframe tbody tr th {\n        vertical-align: top;\n    }\n\n    .dataframe thead th {\n        text-align: right;\n    }\n</style>\n<table border=\"1\" class=\"dataframe\">\n  <thead>\n    <tr style=\"text-align: right;\">\n      <th></th>\n      <th>id</th>\n      <th>val1</th>\n    </tr>\n  </thead>\n  <tbody>\n    <tr>\n      <td>0</td>\n      <td>observ_1</td>\n      <td>42.3</td>\n    </tr>\n    <tr>\n      <td>1</td>\n      <td>observ_2</td>\n      <td>42.3</td>\n    </tr>\n    <tr>\n      <td>2</td>\n      <td>observ_3</td>\n      <td>42.3</td>\n    </tr>\n    <tr>\n      <td>3</td>\n      <td>observ_4</td>\n      <td>12.3</td>\n    </tr>\n    <tr>\n      <td>4</td>\n      <td>observ_5</td>\n      <td>82.2</td>\n    </tr>\n  </tbody>\n</table>\n</div>",
      "text/plain": "         id  val1\n0  observ_1  42.3\n1  observ_2  42.3\n2  observ_3  42.3\n3  observ_4  12.3\n4  observ_5  82.2"
     },
     "execution_count": 19,
     "metadata": {},
     "output_type": "execute_result"
    }
   ],
   "source": [
    "data1.fillna(method='ffill')"
   ]
  },
  {
   "cell_type": "code",
   "execution_count": 20,
   "metadata": {},
   "outputs": [
    {
     "data": {
      "text/html": "<div>\n<style scoped>\n    .dataframe tbody tr th:only-of-type {\n        vertical-align: middle;\n    }\n\n    .dataframe tbody tr th {\n        vertical-align: top;\n    }\n\n    .dataframe thead th {\n        text-align: right;\n    }\n</style>\n<table border=\"1\" class=\"dataframe\">\n  <thead>\n    <tr style=\"text-align: right;\">\n      <th></th>\n      <th>id</th>\n      <th>val1</th>\n    </tr>\n  </thead>\n  <tbody>\n    <tr>\n      <td>0</td>\n      <td>observ_1</td>\n      <td>42.3</td>\n    </tr>\n    <tr>\n      <td>1</td>\n      <td>observ_2</td>\n      <td>12.3</td>\n    </tr>\n    <tr>\n      <td>2</td>\n      <td>observ_3</td>\n      <td>12.3</td>\n    </tr>\n    <tr>\n      <td>3</td>\n      <td>observ_4</td>\n      <td>12.3</td>\n    </tr>\n    <tr>\n      <td>4</td>\n      <td>observ_5</td>\n      <td>82.2</td>\n    </tr>\n  </tbody>\n</table>\n</div>",
      "text/plain": "         id  val1\n0  observ_1  42.3\n1  observ_2  12.3\n2  observ_3  12.3\n3  observ_4  12.3\n4  observ_5  82.2"
     },
     "execution_count": 20,
     "metadata": {},
     "output_type": "execute_result"
    }
   ],
   "source": [
    "data1.fillna(method='bfill')"
   ]
  },
  {
   "cell_type": "markdown",
   "execution_count": null,
   "metadata": {},
   "outputs": [],
   "source": [
    "## Merging two dataframes\n",
    "\n",
    "By using `dataframe1.merge(dataframe2)`, we can glue dataframe 2 on the right side of dataframe1. It will automatically look for a common column to merge upon, the different columns of dataframe2 (to dataframe1) will be glued on the right side."
   ]
  },
  {
   "cell_type": "code",
   "execution_count": 21,
   "metadata": {},
   "outputs": [
    {
     "data": {
      "text/html": "<div>\n<style scoped>\n    .dataframe tbody tr th:only-of-type {\n        vertical-align: middle;\n    }\n\n    .dataframe tbody tr th {\n        vertical-align: top;\n    }\n\n    .dataframe thead th {\n        text-align: right;\n    }\n</style>\n<table border=\"1\" class=\"dataframe\">\n  <thead>\n    <tr style=\"text-align: right;\">\n      <th></th>\n      <th>name</th>\n      <th>age</th>\n      <th>Solinger</th>\n    </tr>\n  </thead>\n  <tbody>\n    <tr>\n      <td>0</td>\n      <td>luc</td>\n      <td>25</td>\n      <td>True</td>\n    </tr>\n    <tr>\n      <td>1</td>\n      <td>miri</td>\n      <td>24</td>\n      <td>False</td>\n    </tr>\n    <tr>\n      <td>2</td>\n      <td>benz</td>\n      <td>14</td>\n      <td>True</td>\n    </tr>\n    <tr>\n      <td>3</td>\n      <td>freddy</td>\n      <td>30</td>\n      <td>False</td>\n    </tr>\n  </tbody>\n</table>\n</div>",
      "text/plain": "     name  age  Solinger\n0     luc   25      True\n1    miri   24     False\n2    benz   14      True\n3  freddy   30     False"
     },
     "execution_count": 21,
     "metadata": {},
     "output_type": "execute_result"
    }
   ],
   "source": [
    "df"
   ]
  },
  {
   "cell_type": "code",
   "execution_count": 22,
   "metadata": {},
   "outputs": [
    {
     "data": {
      "text/html": "<div>\n<style scoped>\n    .dataframe tbody tr th:only-of-type {\n        vertical-align: middle;\n    }\n\n    .dataframe tbody tr th {\n        vertical-align: top;\n    }\n\n    .dataframe thead th {\n        text-align: right;\n    }\n</style>\n<table border=\"1\" class=\"dataframe\">\n  <thead>\n    <tr style=\"text-align: right;\">\n      <th></th>\n      <th>name</th>\n      <th>age</th>\n      <th>height</th>\n    </tr>\n  </thead>\n  <tbody>\n    <tr>\n      <td>0</td>\n      <td>luc</td>\n      <td>25</td>\n      <td>180</td>\n    </tr>\n    <tr>\n      <td>1</td>\n      <td>miri</td>\n      <td>24</td>\n      <td>170</td>\n    </tr>\n    <tr>\n      <td>2</td>\n      <td>benz</td>\n      <td>14</td>\n      <td>165</td>\n    </tr>\n    <tr>\n      <td>3</td>\n      <td>freddy</td>\n      <td>30</td>\n      <td>177</td>\n    </tr>\n  </tbody>\n</table>\n</div>",
      "text/plain": "     name  age  height\n0     luc   25     180\n1    miri   24     170\n2    benz   14     165\n3  freddy   30     177"
     },
     "execution_count": 22,
     "metadata": {},
     "output_type": "execute_result"
    }
   ],
   "source": [
    "df2 = pd.DataFrame({'name': ['luc', 'miri', 'benz', 'freddy'], 'age': [25,24,14,30], 'height':[180,170,165,177]})\n",
    "df2"
   ]
  },
  {
   "cell_type": "code",
   "execution_count": 23,
   "metadata": {},
   "outputs": [
    {
     "data": {
      "text/html": "<div>\n<style scoped>\n    .dataframe tbody tr th:only-of-type {\n        vertical-align: middle;\n    }\n\n    .dataframe tbody tr th {\n        vertical-align: top;\n    }\n\n    .dataframe thead th {\n        text-align: right;\n    }\n</style>\n<table border=\"1\" class=\"dataframe\">\n  <thead>\n    <tr style=\"text-align: right;\">\n      <th></th>\n      <th>name</th>\n      <th>age</th>\n      <th>Solinger</th>\n      <th>height</th>\n    </tr>\n  </thead>\n  <tbody>\n    <tr>\n      <td>0</td>\n      <td>luc</td>\n      <td>25</td>\n      <td>True</td>\n      <td>180</td>\n    </tr>\n    <tr>\n      <td>1</td>\n      <td>miri</td>\n      <td>24</td>\n      <td>False</td>\n      <td>170</td>\n    </tr>\n    <tr>\n      <td>2</td>\n      <td>benz</td>\n      <td>14</td>\n      <td>True</td>\n      <td>165</td>\n    </tr>\n    <tr>\n      <td>3</td>\n      <td>freddy</td>\n      <td>30</td>\n      <td>False</td>\n      <td>177</td>\n    </tr>\n  </tbody>\n</table>\n</div>",
      "text/plain": "     name  age  Solinger  height\n0     luc   25      True     180\n1    miri   24     False     170\n2    benz   14      True     165\n3  freddy   30     False     177"
     },
     "execution_count": 23,
     "metadata": {},
     "output_type": "execute_result"
    }
   ],
   "source": [
    "#Take df and merge all different columns in df2 on the right:\n",
    "df.merge(df2)"
   ]
  },
  {
   "cell_type": "code",
   "execution_count": 24,
   "metadata": {},
   "outputs": [
    {
     "data": {
      "text/html": "<div>\n<style scoped>\n    .dataframe tbody tr th:only-of-type {\n        vertical-align: middle;\n    }\n\n    .dataframe tbody tr th {\n        vertical-align: top;\n    }\n\n    .dataframe thead th {\n        text-align: right;\n    }\n</style>\n<table border=\"1\" class=\"dataframe\">\n  <thead>\n    <tr style=\"text-align: right;\">\n      <th></th>\n      <th>name</th>\n      <th>age</th>\n      <th>height</th>\n      <th>Solinger</th>\n    </tr>\n  </thead>\n  <tbody>\n    <tr>\n      <td>0</td>\n      <td>luc</td>\n      <td>25</td>\n      <td>180</td>\n      <td>True</td>\n    </tr>\n    <tr>\n      <td>1</td>\n      <td>miri</td>\n      <td>24</td>\n      <td>170</td>\n      <td>False</td>\n    </tr>\n    <tr>\n      <td>2</td>\n      <td>benz</td>\n      <td>14</td>\n      <td>165</td>\n      <td>True</td>\n    </tr>\n    <tr>\n      <td>3</td>\n      <td>freddy</td>\n      <td>30</td>\n      <td>177</td>\n      <td>False</td>\n    </tr>\n  </tbody>\n</table>\n</div>",
      "text/plain": "     name  age  height  Solinger\n0     luc   25     180      True\n1    miri   24     170     False\n2    benz   14     165      True\n3  freddy   30     177     False"
     },
     "execution_count": 24,
     "metadata": {},
     "output_type": "execute_result"
    }
   ],
   "source": [
    "#Take df2 and merge all different columns in df on the right:\n",
    "df2.merge(df)"
   ]
  },
  {
   "cell_type": "markdown",
   "execution_count": null,
   "metadata": {},
   "outputs": [],
   "source": [
    "If there are no columns in the two dataframes with the same name, then we can identify with `left_on=` and `right_on=` that dataframe1 comes left and whole of dataframe2 comes right.\n"
   ]
  },
  {
   "cell_type": "code",
   "execution_count": 25,
   "metadata": {},
   "outputs": [
    {
     "data": {
      "text/html": "<div>\n<style scoped>\n    .dataframe tbody tr th:only-of-type {\n        vertical-align: middle;\n    }\n\n    .dataframe tbody tr th {\n        vertical-align: top;\n    }\n\n    .dataframe thead th {\n        text-align: right;\n    }\n</style>\n<table border=\"1\" class=\"dataframe\">\n  <thead>\n    <tr style=\"text-align: right;\">\n      <th></th>\n      <th>peoples</th>\n      <th>sex</th>\n    </tr>\n  </thead>\n  <tbody>\n    <tr>\n      <td>0</td>\n      <td>luc</td>\n      <td>m</td>\n    </tr>\n    <tr>\n      <td>1</td>\n      <td>miri</td>\n      <td>w</td>\n    </tr>\n    <tr>\n      <td>2</td>\n      <td>benz</td>\n      <td>m</td>\n    </tr>\n    <tr>\n      <td>3</td>\n      <td>freddy</td>\n      <td>m</td>\n    </tr>\n  </tbody>\n</table>\n</div>",
      "text/plain": "  peoples sex\n0     luc   m\n1    miri   w\n2    benz   m\n3  freddy   m"
     },
     "execution_count": 25,
     "metadata": {},
     "output_type": "execute_result"
    }
   ],
   "source": [
    "df3 = pd.DataFrame({'peoples': ['luc','miri','benz','freddy'], 'sex': ['m','w','m','m']})\n",
    "df3"
   ]
  },
  {
   "cell_type": "code",
   "execution_count": 26,
   "metadata": {},
   "outputs": [
    {
     "data": {
      "text/html": "<div>\n<style scoped>\n    .dataframe tbody tr th:only-of-type {\n        vertical-align: middle;\n    }\n\n    .dataframe tbody tr th {\n        vertical-align: top;\n    }\n\n    .dataframe thead th {\n        text-align: right;\n    }\n</style>\n<table border=\"1\" class=\"dataframe\">\n  <thead>\n    <tr style=\"text-align: right;\">\n      <th></th>\n      <th>name</th>\n      <th>age</th>\n      <th>Solinger</th>\n      <th>peoples</th>\n      <th>sex</th>\n    </tr>\n  </thead>\n  <tbody>\n    <tr>\n      <td>0</td>\n      <td>luc</td>\n      <td>25</td>\n      <td>True</td>\n      <td>luc</td>\n      <td>m</td>\n    </tr>\n    <tr>\n      <td>1</td>\n      <td>miri</td>\n      <td>24</td>\n      <td>False</td>\n      <td>miri</td>\n      <td>w</td>\n    </tr>\n    <tr>\n      <td>2</td>\n      <td>benz</td>\n      <td>14</td>\n      <td>True</td>\n      <td>benz</td>\n      <td>m</td>\n    </tr>\n    <tr>\n      <td>3</td>\n      <td>freddy</td>\n      <td>30</td>\n      <td>False</td>\n      <td>freddy</td>\n      <td>m</td>\n    </tr>\n  </tbody>\n</table>\n</div>",
      "text/plain": "     name  age  Solinger peoples sex\n0     luc   25      True     luc   m\n1    miri   24     False    miri   w\n2    benz   14      True    benz   m\n3  freddy   30     False  freddy   m"
     },
     "execution_count": 26,
     "metadata": {},
     "output_type": "execute_result"
    }
   ],
   "source": [
    "df.merge(df3, left_on='name', right_on='peoples')\n"
   ]
  },
  {
   "cell_type": "markdown",
   "execution_count": null,
   "metadata": {},
   "outputs": [],
   "source": [
    "If the merging columns differ, then only the rows are merged in which the merging column entries are the same."
   ]
  },
  {
   "cell_type": "code",
   "execution_count": 27,
   "metadata": {},
   "outputs": [
    {
     "data": {
      "text/html": "<div>\n<style scoped>\n    .dataframe tbody tr th:only-of-type {\n        vertical-align: middle;\n    }\n\n    .dataframe tbody tr th {\n        vertical-align: top;\n    }\n\n    .dataframe thead th {\n        text-align: right;\n    }\n</style>\n<table border=\"1\" class=\"dataframe\">\n  <thead>\n    <tr style=\"text-align: right;\">\n      <th></th>\n      <th>peoples</th>\n      <th>sex</th>\n    </tr>\n  </thead>\n  <tbody>\n    <tr>\n      <td>0</td>\n      <td>miri</td>\n      <td>w</td>\n    </tr>\n    <tr>\n      <td>1</td>\n      <td>benz</td>\n      <td>m</td>\n    </tr>\n    <tr>\n      <td>2</td>\n      <td>joy</td>\n      <td>w</td>\n    </tr>\n  </tbody>\n</table>\n</div>",
      "text/plain": "  peoples sex\n0    miri   w\n1    benz   m\n2     joy   w"
     },
     "execution_count": 27,
     "metadata": {},
     "output_type": "execute_result"
    }
   ],
   "source": [
    "df4 = pd.DataFrame({'peoples': ['miri','benz','joy'], 'sex': ['w','m','w']})\n",
    "df4"
   ]
  },
  {
   "cell_type": "code",
   "execution_count": 28,
   "metadata": {},
   "outputs": [
    {
     "data": {
      "text/html": "<div>\n<style scoped>\n    .dataframe tbody tr th:only-of-type {\n        vertical-align: middle;\n    }\n\n    .dataframe tbody tr th {\n        vertical-align: top;\n    }\n\n    .dataframe thead th {\n        text-align: right;\n    }\n</style>\n<table border=\"1\" class=\"dataframe\">\n  <thead>\n    <tr style=\"text-align: right;\">\n      <th></th>\n      <th>name</th>\n      <th>age</th>\n      <th>Solinger</th>\n      <th>peoples</th>\n      <th>sex</th>\n    </tr>\n  </thead>\n  <tbody>\n    <tr>\n      <td>0</td>\n      <td>miri</td>\n      <td>24</td>\n      <td>False</td>\n      <td>miri</td>\n      <td>w</td>\n    </tr>\n    <tr>\n      <td>1</td>\n      <td>benz</td>\n      <td>14</td>\n      <td>True</td>\n      <td>benz</td>\n      <td>m</td>\n    </tr>\n  </tbody>\n</table>\n</div>",
      "text/plain": "   name  age  Solinger peoples sex\n0  miri   24     False    miri   w\n1  benz   14      True    benz   m"
     },
     "execution_count": 28,
     "metadata": {},
     "output_type": "execute_result"
    }
   ],
   "source": [
    "df.merge(df4, left_on='name', right_on='peoples')"
   ]
  },
  {
   "cell_type": "markdown",
   "execution_count": null,
   "metadata": {},
   "outputs": [],
   "source": [
    "If we want to keep all rows in the merge, then the non-matching complement is filled with `NaN`-values. \n",
    "\n",
    "The `NaN`-values can be substituted (s.o.)\n",
    "\n",
    "We can do this by using an outer join (`how='outer'`)"
   ]
  },
  {
   "cell_type": "code",
   "execution_count": 29,
   "metadata": {},
   "outputs": [
    {
     "data": {
      "text/html": "<div>\n<style scoped>\n    .dataframe tbody tr th:only-of-type {\n        vertical-align: middle;\n    }\n\n    .dataframe tbody tr th {\n        vertical-align: top;\n    }\n\n    .dataframe thead th {\n        text-align: right;\n    }\n</style>\n<table border=\"1\" class=\"dataframe\">\n  <thead>\n    <tr style=\"text-align: right;\">\n      <th></th>\n      <th>name</th>\n      <th>age</th>\n      <th>Solinger</th>\n      <th>peoples</th>\n      <th>sex</th>\n    </tr>\n  </thead>\n  <tbody>\n    <tr>\n      <td>0</td>\n      <td>luc</td>\n      <td>25.0</td>\n      <td>True</td>\n      <td>NaN</td>\n      <td>NaN</td>\n    </tr>\n    <tr>\n      <td>1</td>\n      <td>miri</td>\n      <td>24.0</td>\n      <td>False</td>\n      <td>miri</td>\n      <td>w</td>\n    </tr>\n    <tr>\n      <td>2</td>\n      <td>benz</td>\n      <td>14.0</td>\n      <td>True</td>\n      <td>benz</td>\n      <td>m</td>\n    </tr>\n    <tr>\n      <td>3</td>\n      <td>freddy</td>\n      <td>30.0</td>\n      <td>False</td>\n      <td>NaN</td>\n      <td>NaN</td>\n    </tr>\n    <tr>\n      <td>4</td>\n      <td>NaN</td>\n      <td>NaN</td>\n      <td>NaN</td>\n      <td>joy</td>\n      <td>w</td>\n    </tr>\n  </tbody>\n</table>\n</div>",
      "text/plain": "     name   age Solinger peoples  sex\n0     luc  25.0     True     NaN  NaN\n1    miri  24.0    False    miri    w\n2    benz  14.0     True    benz    m\n3  freddy  30.0    False     NaN  NaN\n4     NaN   NaN      NaN     joy    w"
     },
     "execution_count": 29,
     "metadata": {},
     "output_type": "execute_result"
    }
   ],
   "source": [
    "df5 = df.merge(df4, how='outer', left_on='name', right_on='peoples')\n",
    "df5"
   ]
  },
  {
   "cell_type": "markdown",
   "execution_count": null,
   "metadata": {},
   "outputs": [],
   "source": [
    "Missing values in column `name` can be taken from column `peoples`. Then column `peoples` can be dropped.\n",
    "\n",
    "We can use the `apply()` function to run a `lambda`-expression on a column or a row (`axis=0`: column-wise)(`axis=1`: row-wise).\n",
    "\n",
    "This `lambda`-expression gives a new column.\n",
    "\n",
    "1. It rewrittes the `NaN`s in df5 into `NA` - this makes it a string, so we can compare it (because `NaN` is not a string, its a float).\n",
    "\n",
    "2. Then we apply a lambda function to each row (`axes=1`)\n",
    "\n",
    "3. The function takes a row as input\n",
    "\n",
    "4. For each input row, it returns the name of the column `peoples`, if the name of the column `name` is `NA`. Otherwise it just takes the name in column `name`."
   ]
  },
  {
   "cell_type": "code",
   "execution_count": 30,
   "metadata": {},
   "outputs": [
    {
     "data": {
      "text/plain": "0       luc\n1      miri\n2      benz\n3    freddy\n4       joy\ndtype: object"
     },
     "execution_count": 30,
     "metadata": {},
     "output_type": "execute_result"
    }
   ],
   "source": [
    "df5.fillna('NA').apply(lambda row: row['peoples'] if row['name']=='NA' else row['name'], axis=1)"
   ]
  },
  {
   "cell_type": "markdown",
   "execution_count": null,
   "metadata": {},
   "outputs": [],
   "source": [
    "Now we can put this column as a new column into the dataframe."
   ]
  },
  {
   "cell_type": "code",
   "execution_count": 31,
   "metadata": {},
   "outputs": [
    {
     "data": {
      "text/html": "<div>\n<style scoped>\n    .dataframe tbody tr th:only-of-type {\n        vertical-align: middle;\n    }\n\n    .dataframe tbody tr th {\n        vertical-align: top;\n    }\n\n    .dataframe thead th {\n        text-align: right;\n    }\n</style>\n<table border=\"1\" class=\"dataframe\">\n  <thead>\n    <tr style=\"text-align: right;\">\n      <th></th>\n      <th>name</th>\n      <th>age</th>\n      <th>Solinger</th>\n      <th>peoples</th>\n      <th>sex</th>\n    </tr>\n  </thead>\n  <tbody>\n    <tr>\n      <td>0</td>\n      <td>luc</td>\n      <td>25.0</td>\n      <td>True</td>\n      <td>NaN</td>\n      <td>NaN</td>\n    </tr>\n    <tr>\n      <td>1</td>\n      <td>miri</td>\n      <td>24.0</td>\n      <td>False</td>\n      <td>miri</td>\n      <td>w</td>\n    </tr>\n    <tr>\n      <td>2</td>\n      <td>benz</td>\n      <td>14.0</td>\n      <td>True</td>\n      <td>benz</td>\n      <td>m</td>\n    </tr>\n    <tr>\n      <td>3</td>\n      <td>freddy</td>\n      <td>30.0</td>\n      <td>False</td>\n      <td>NaN</td>\n      <td>NaN</td>\n    </tr>\n    <tr>\n      <td>4</td>\n      <td>joy</td>\n      <td>NaN</td>\n      <td>NaN</td>\n      <td>joy</td>\n      <td>w</td>\n    </tr>\n  </tbody>\n</table>\n</div>",
      "text/plain": "     name   age Solinger peoples  sex\n0     luc  25.0     True     NaN  NaN\n1    miri  24.0    False    miri    w\n2    benz  14.0     True    benz    m\n3  freddy  30.0    False     NaN  NaN\n4     joy   NaN      NaN     joy    w"
     },
     "execution_count": 31,
     "metadata": {},
     "output_type": "execute_result"
    }
   ],
   "source": [
    "df5['name'] = df5.fillna('NA').apply(lambda row: row['peoples'] if row['name']=='NA' else row['name'], axis=1)\n",
    "df5"
   ]
  },
  {
   "cell_type": "markdown",
   "execution_count": null,
   "metadata": {},
   "outputs": [],
   "source": [
    "We can now drop the other column with `drop()`.\n",
    "\n",
    "`axis=1` means: we are dropping every row of column name `peoples`."
   ]
  },
  {
   "cell_type": "code",
   "execution_count": 32,
   "metadata": {},
   "outputs": [
    {
     "data": {
      "text/html": "<div>\n<style scoped>\n    .dataframe tbody tr th:only-of-type {\n        vertical-align: middle;\n    }\n\n    .dataframe tbody tr th {\n        vertical-align: top;\n    }\n\n    .dataframe thead th {\n        text-align: right;\n    }\n</style>\n<table border=\"1\" class=\"dataframe\">\n  <thead>\n    <tr style=\"text-align: right;\">\n      <th></th>\n      <th>name</th>\n      <th>age</th>\n      <th>Solinger</th>\n      <th>sex</th>\n    </tr>\n  </thead>\n  <tbody>\n    <tr>\n      <td>0</td>\n      <td>luc</td>\n      <td>25.0</td>\n      <td>True</td>\n      <td>NaN</td>\n    </tr>\n    <tr>\n      <td>1</td>\n      <td>miri</td>\n      <td>24.0</td>\n      <td>False</td>\n      <td>w</td>\n    </tr>\n    <tr>\n      <td>2</td>\n      <td>benz</td>\n      <td>14.0</td>\n      <td>True</td>\n      <td>m</td>\n    </tr>\n    <tr>\n      <td>3</td>\n      <td>freddy</td>\n      <td>30.0</td>\n      <td>False</td>\n      <td>NaN</td>\n    </tr>\n    <tr>\n      <td>4</td>\n      <td>joy</td>\n      <td>NaN</td>\n      <td>NaN</td>\n      <td>w</td>\n    </tr>\n  </tbody>\n</table>\n</div>",
      "text/plain": "     name   age Solinger  sex\n0     luc  25.0     True  NaN\n1    miri  24.0    False    w\n2    benz  14.0     True    m\n3  freddy  30.0    False  NaN\n4     joy   NaN      NaN    w"
     },
     "execution_count": 32,
     "metadata": {},
     "output_type": "execute_result"
    }
   ],
   "source": [
    "df5 = df5.drop(['peoples'], axis=1)\n",
    "df5"
   ]
  },
  {
   "cell_type": "markdown",
   "execution_count": null,
   "metadata": {},
   "outputs": [],
   "source": [
    "## Applying Queries / Receiving subsets\n",
    "\n",
    "We can also return just a subset of the dataframe by passing a `query()`, which specifies a certain condition that needs to hold."
   ]
  },
  {
   "cell_type": "code",
   "execution_count": 33,
   "metadata": {},
   "outputs": [
    {
     "data": {
      "text/html": "<div>\n<style scoped>\n    .dataframe tbody tr th:only-of-type {\n        vertical-align: middle;\n    }\n\n    .dataframe tbody tr th {\n        vertical-align: top;\n    }\n\n    .dataframe thead th {\n        text-align: right;\n    }\n</style>\n<table border=\"1\" class=\"dataframe\">\n  <thead>\n    <tr style=\"text-align: right;\">\n      <th></th>\n      <th>name</th>\n      <th>age</th>\n      <th>Solinger</th>\n      <th>sex</th>\n    </tr>\n  </thead>\n  <tbody>\n    <tr>\n      <td>0</td>\n      <td>luc</td>\n      <td>25.0</td>\n      <td>True</td>\n      <td>NaN</td>\n    </tr>\n    <tr>\n      <td>3</td>\n      <td>freddy</td>\n      <td>30.0</td>\n      <td>False</td>\n      <td>NaN</td>\n    </tr>\n  </tbody>\n</table>\n</div>",
      "text/plain": "     name   age Solinger  sex\n0     luc  25.0     True  NaN\n3  freddy  30.0    False  NaN"
     },
     "execution_count": 33,
     "metadata": {},
     "output_type": "execute_result"
    }
   ],
   "source": [
    "df5.query('age >= 30 or age == 25')"
   ]
  },
  {
   "cell_type": "markdown",
   "execution_count": null,
   "metadata": {},
   "outputs": [],
   "source": [
    "We can also receive a random sample of the dataframe by using `sample(n=)`.\n",
    "\n",
    "If we set `replace=True`, then we allow to randomly sample an instance multiple times."
   ]
  },
  {
   "cell_type": "code",
   "execution_count": 34,
   "metadata": {},
   "outputs": [
    {
     "data": {
      "text/html": "<div>\n<style scoped>\n    .dataframe tbody tr th:only-of-type {\n        vertical-align: middle;\n    }\n\n    .dataframe tbody tr th {\n        vertical-align: top;\n    }\n\n    .dataframe thead th {\n        text-align: right;\n    }\n</style>\n<table border=\"1\" class=\"dataframe\">\n  <thead>\n    <tr style=\"text-align: right;\">\n      <th></th>\n      <th>name</th>\n      <th>age</th>\n      <th>Solinger</th>\n      <th>sex</th>\n    </tr>\n  </thead>\n  <tbody>\n    <tr>\n      <td>4</td>\n      <td>joy</td>\n      <td>NaN</td>\n      <td>NaN</td>\n      <td>w</td>\n    </tr>\n    <tr>\n      <td>2</td>\n      <td>benz</td>\n      <td>14.0</td>\n      <td>True</td>\n      <td>m</td>\n    </tr>\n    <tr>\n      <td>1</td>\n      <td>miri</td>\n      <td>24.0</td>\n      <td>False</td>\n      <td>w</td>\n    </tr>\n  </tbody>\n</table>\n</div>",
      "text/plain": "   name   age Solinger sex\n4   joy   NaN      NaN   w\n2  benz  14.0     True   m\n1  miri  24.0    False   w"
     },
     "execution_count": 34,
     "metadata": {},
     "output_type": "execute_result"
    }
   ],
   "source": [
    "df5.sample(n=3, replace=True)"
   ]
  },
  {
   "cell_type": "markdown",
   "execution_count": null,
   "metadata": {},
   "outputs": [],
   "source": [
    "## Mean, Variance and Max/Min\n",
    "\n",
    "We can perform basic statistical analysis on dataframes.\n",
    "\n",
    "1. `mean()` gives the mean for each row (`axis=1`, i.e. row-wise) or for each column (`axis=0`, i.e. column-wise)\n",
    "\n",
    "Note: Only *real* values in a row will be accounted for in `axis=1`, all other values are skipped. \n",
    "\n",
    "And when a column is *real*, will it be accounted for in `axis=0`, all other columns are skipped."
   ]
  },
  {
   "cell_type": "code",
   "execution_count": 35,
   "metadata": {},
   "outputs": [
    {
     "name": "stdout",
     "output_type": "stream",
     "text": "name   age Solinger  sex\n0     luc  25.0     True  NaN\n1    miri  24.0    False    w\n2    benz  14.0     True    m\n3  freddy  30.0    False  NaN\n4     joy   NaN      NaN    w\n\n\n0    25.0\n1    24.0\n2    14.0\n3    30.0\n4     NaN\ndtype: float64\n\n\nage    23.25\ndtype: float64\n"
    }
   ],
   "source": [
    "print(df5)\n",
    "\n",
    "print('\\n')\n",
    "\n",
    "print(df5.mean(axis=1))\n",
    "\n",
    "print('\\n')\n",
    "\n",
    "print(df5.mean(axis=0))"
   ]
  },
  {
   "cell_type": "markdown",
   "execution_count": null,
   "metadata": {},
   "outputs": [],
   "source": [
    "2. `var()` gives the variance for each row (`axis=1`) or for each column (`axis=0`)"
   ]
  },
  {
   "cell_type": "code",
   "execution_count": 36,
   "metadata": {},
   "outputs": [
    {
     "name": "stdout",
     "output_type": "stream",
     "text": "0   NaN\n1   NaN\n2   NaN\n3   NaN\n4   NaN\ndtype: float64\n\n\nage    44.916667\ndtype: float64\n"
    }
   ],
   "source": [
    "print(df5.var(axis=1))\n",
    "\n",
    "print('\\n')\n",
    "\n",
    "print(df5.var(axis=0))"
   ]
  },
  {
   "cell_type": "markdown",
   "execution_count": null,
   "metadata": {},
   "outputs": [],
   "source": [
    "3. `max()` gives the maximum value for each axis.\n",
    "\n",
    "Note: Taking `max()` of strings will return the lexicografically maximum value. I.e. the max string will consist of letters each coming in the alphabet *after* the corresponding letter of the other strings. It doesn't matter if the strings are of different sizes, the minimal size counts. Even numeric values in the strings will be lexicografically ordered. When comparing numbers against letters, depending on the python interpreter, a certain character encoding (ASCII, UTF8, Unicode etc.) will be used, that 'orders' these characters in order to make it possible to find a max.\n",
    "\n",
    "The `min()` string will consist of letters each coming in the alphabet *before* the corresponding letter of the other strings."
   ]
  },
  {
   "cell_type": "code",
   "execution_count": 37,
   "metadata": {},
   "outputs": [
    {
     "name": "stdout",
     "output_type": "stream",
     "text": "0    25.0\n1    24.0\n2    14.0\n3    30.0\n4     NaN\ndtype: float64\n\n\nname        miri\nage           30\nSolinger    True\ndtype: object\n\n\nname         benz\nage            14\nSolinger    False\ndtype: object\n"
    }
   ],
   "source": [
    "print(df5.max(axis=1))\n",
    "\n",
    "print('\\n')\n",
    "\n",
    "print(df5.max(axis=0))\n",
    "\n",
    "print('\\n')\n",
    "\n",
    "print(df5.min(axis=0))"
   ]
  },
  {
   "cell_type": "code",
   "execution_count": 38,
   "metadata": {},
   "outputs": [
    {
     "data": {
      "text/plain": "names    2ab\ndtype: object"
     },
     "execution_count": 38,
     "metadata": {},
     "output_type": "execute_result"
    }
   ],
   "source": [
    "import pandas\n",
    "test_df = pandas.DataFrame({'names': ['2ab', '']})\n",
    "test_df.max()"
   ]
  },
  {
   "cell_type": "markdown",
   "execution_count": null,
   "metadata": {},
   "outputs": [],
   "source": [
    "## Apply function to each element\n",
    "\n",
    "Using `applymap()`, we can apply a function to each element of a whole dataframe.\n",
    "\n",
    "This can be helpful when scaling or transforming the data, e.g. normalization.\n",
    "\n",
    "Note: `df5['height'].applymap(lambda x: x-2)` would reduce each element in column height by 2, but this is a column, not a whole dataframe, error! \n",
    "\n",
    "Instead, `apply()` will work: `df5['height'].apply(lambda x: x-2)`\n",
    "\n",
    "`df5[['height']].applymap(lambda x: x-2)` would work too, since its a new separate dataframe!\n",
    "\n"
   ]
  },
  {
   "cell_type": "code",
   "execution_count": 39,
   "metadata": {},
   "outputs": [
    {
     "data": {
      "text/plain": "0    23.0\n1    22.0\n2    12.0\n3    28.0\n4     NaN\nName: age, dtype: float64"
     },
     "execution_count": 39,
     "metadata": {},
     "output_type": "execute_result"
    }
   ],
   "source": [
    "df5['age'].apply(lambda x: x-2)"
   ]
  },
  {
   "cell_type": "markdown",
   "execution_count": null,
   "metadata": {},
   "outputs": [],
   "source": [
    "`copy()` will make an exact duplicate of the dataframe"
   ]
  },
  {
   "cell_type": "code",
   "execution_count": 40,
   "metadata": {},
   "outputs": [
    {
     "data": {
      "text/html": "<div>\n<style scoped>\n    .dataframe tbody tr th:only-of-type {\n        vertical-align: middle;\n    }\n\n    .dataframe tbody tr th {\n        vertical-align: top;\n    }\n\n    .dataframe thead th {\n        text-align: right;\n    }\n</style>\n<table border=\"1\" class=\"dataframe\">\n  <thead>\n    <tr style=\"text-align: right;\">\n      <th></th>\n      <th>name</th>\n      <th>age</th>\n      <th>Solinger</th>\n      <th>sex</th>\n    </tr>\n  </thead>\n  <tbody>\n    <tr>\n      <td>0</td>\n      <td>luc</td>\n      <td>25.0</td>\n      <td>True</td>\n      <td>NaN</td>\n    </tr>\n    <tr>\n      <td>1</td>\n      <td>miri</td>\n      <td>24.0</td>\n      <td>False</td>\n      <td>w</td>\n    </tr>\n    <tr>\n      <td>2</td>\n      <td>benz</td>\n      <td>14.0</td>\n      <td>True</td>\n      <td>m</td>\n    </tr>\n    <tr>\n      <td>3</td>\n      <td>freddy</td>\n      <td>30.0</td>\n      <td>False</td>\n      <td>NaN</td>\n    </tr>\n    <tr>\n      <td>4</td>\n      <td>joy</td>\n      <td>NaN</td>\n      <td>NaN</td>\n      <td>w</td>\n    </tr>\n  </tbody>\n</table>\n</div>",
      "text/plain": "     name   age Solinger  sex\n0     luc  25.0     True  NaN\n1    miri  24.0    False    w\n2    benz  14.0     True    m\n3  freddy  30.0    False  NaN\n4     joy   NaN      NaN    w"
     },
     "execution_count": 40,
     "metadata": {},
     "output_type": "execute_result"
    }
   ],
   "source": [
    "df5_dupl = df5.copy()\n",
    "df5_dupl.head()"
   ]
  }
 ]
}