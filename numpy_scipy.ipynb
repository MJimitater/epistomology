{
 "cells": [
  {
   "cell_type": "markdown",
   "metadata": {},
   "source": [
    "# Python arrays\n",
    "\n",
    "There are arrays that exist in python, but they are crap. In the following we have pure python array and no `numpy` arrays."
   ]
  },
  {
   "cell_type": "code",
   "execution_count": 1,
   "metadata": {},
   "outputs": [
    {
     "data": {
      "text/plain": "[1, 2, 3, 4, 5, 6]"
     },
     "execution_count": 1,
     "metadata": {},
     "output_type": "execute_result"
    }
   ],
   "source": [
    "\n",
    "python_array1 = [1,2,3]\n",
    "python_array2 = [4,5,6]\n",
    "\n",
    "python_array1 + python_array2"
   ]
  },
  {
   "cell_type": "markdown",
   "metadata": {},
   "source": [
    "We see that there is no mathematical interpretation of the python arrays! Thats why we need `numpy` arrays!\n",
    "\n",
    "# Numpy arrays\n",
    "\n",
    "We need to import the `numpy` package.\n",
    "\n",
    "We can define `numpy` arrays by `np.array([])`."
   ]
  },
  {
   "cell_type": "code",
   "execution_count": 1,
   "metadata": {},
   "outputs": [
    {
     "output_type": "execute_result",
     "data": {
      "text/plain": "array([ 5,  7,  9, 11])"
     },
     "metadata": {},
     "execution_count": 1
    }
   ],
   "source": [
    "import numpy as np\n",
    "\n",
    "numpy_array1 = np.array([1,2,3,4])\n",
    "numpy_array2 = np.array([4,5,6,7])\n",
    "\n",
    "numpy_array_sum = numpy_array1 + numpy_array2\n",
    "numpy_array_sum"
   ]
  },
  {
   "cell_type": "markdown",
   "metadata": {},
   "source": [
    "We see that `numpy` interpets arrays mathematically!"
   ]
  },
  {
   "cell_type": "markdown",
   "metadata": {},
   "source": [
    "## Multidimensional arrays / Matrices\n",
    "\n",
    "By bassing several same-length arrays to `np.array()`, we can create a multidimensional array.\n",
    "\n",
    "Note: embracket the whole matrix within `np.array` into `[ ]`.\n",
    "\n"
   ]
  },
  {
   "cell_type": "code",
   "execution_count": 12,
   "metadata": {},
   "outputs": [
    {
     "output_type": "execute_result",
     "data": {
      "text/plain": "array([[1, 0, 0],\n       [0, 1, 0],\n       [0, 0, 1]])"
     },
     "metadata": {},
     "execution_count": 12
    }
   ],
   "source": [
    "import numpy as np\n",
    "\n",
    "tmp_matrix = np.array([[1,0,0], [0,1,0], [0,0,1]])\n",
    "tmp_matrix"
   ]
  },
  {
   "cell_type": "markdown",
   "metadata": {},
   "source": [
    "`np.arange(i)` quickly sets up an array iterating from 0 (inclusive) to i (exclusive)"
   ]
  },
  {
   "cell_type": "code",
   "execution_count": 2,
   "metadata": {},
   "outputs": [
    {
     "data": {
      "text/plain": "array([0, 1, 2, 3])"
     },
     "execution_count": 2,
     "metadata": {},
     "output_type": "execute_result"
    }
   ],
   "source": [
    "import numpy as np\n",
    "\n",
    "#array from 0 (inclusive) to 4 (exclusive):\n",
    "np.arange(4)\n"
   ]
  },
  {
   "cell_type": "markdown",
   "metadata": {},
   "source": [
    "`np.linspace(i,j,s)` quickly sets up an array iterating from i (inclusive) to j (inclusive), consisting of s equidistant elements."
   ]
  },
  {
   "cell_type": "code",
   "execution_count": 5,
   "metadata": {},
   "outputs": [
    {
     "data": {
      "text/plain": "array([-1.,  0.,  1.])"
     },
     "execution_count": 5,
     "metadata": {},
     "output_type": "execute_result"
    }
   ],
   "source": [
    "import numpy as np\n",
    "\n",
    "#array from -1 (inclusive) to 1 (inclusive) with 3 equidistant elements:\n",
    "np.linspace(-1,1,3)"
   ]
  },
  {
   "cell_type": "markdown",
   "metadata": {},
   "source": [
    "## Reshaping arrays\n",
    "\n",
    "To have multidimensional arrays (matrices) we can reshape the arrays to the desired dimesion by using `reshape()`.\n",
    "\n"
   ]
  },
  {
   "cell_type": "code",
   "execution_count": 8,
   "metadata": {},
   "outputs": [
    {
     "output_type": "stream",
     "name": "stdout",
     "text": "[[ 5  7]\n [ 9 11]]\n"
    }
   ],
   "source": [
    "import numpy as np\n",
    "tmp_arr = np.array([5,7,9,11])\n",
    "\n",
    "print(tmp_arr.reshape(2,2))"
   ]
  },
  {
   "cell_type": "markdown",
   "metadata": {},
   "source": [
    "If we don't know the exact end dimension, we can pass -1, which will automatically detect the right dimension."
   ]
  },
  {
   "cell_type": "code",
   "execution_count": 11,
   "metadata": {},
   "outputs": [
    {
     "output_type": "stream",
     "name": "stdout",
     "text": "[[ 5  7]\n [ 9 11]]\n\n\n[[ 5]\n [ 7]\n [ 9]\n [11]]\n"
    }
   ],
   "source": [
    "import numpy as np\n",
    "tmp_arr = np.array([5,7,9,11])\n",
    "\n",
    "#If we don't know the 2nd dimension:\n",
    "print(tmp_arr.reshape(2,-1))\n",
    "\n",
    "print('\\n')\n",
    "\n",
    "#Forming a vector:\n",
    "print(tmp_arr.reshape(-1,1))"
   ]
  },
  {
   "cell_type": "markdown",
   "metadata": {},
   "source": [
    "We can always transform a matrix into a row-vector by passing a single value of -1."
   ]
  },
  {
   "cell_type": "code",
   "execution_count": 34,
   "metadata": {},
   "outputs": [
    {
     "data": {
      "text/plain": "array([ 5,  7,  9, 11])"
     },
     "execution_count": 34,
     "metadata": {},
     "output_type": "execute_result"
    }
   ],
   "source": [
    "import numpy as np\n",
    "tmp_arr = np.array([5,7,9,11])\n",
    "\n",
    "tmp_arr.reshape(-1)"
   ]
  },
  {
   "cell_type": "markdown",
   "metadata": {},
   "source": [
    "Using `shape`, we can output the dimension of an array."
   ]
  },
  {
   "cell_type": "code",
   "execution_count": 16,
   "metadata": {},
   "outputs": [
    {
     "output_type": "execute_result",
     "data": {
      "text/plain": "(2, 2)"
     },
     "metadata": {},
     "execution_count": 16
    }
   ],
   "source": [
    "import numpy as np\n",
    "tmp_arr = np.array([5,7,9,11])\n",
    "tmp_arr = tmp_arr.reshape(2,2)\n",
    "\n",
    "tmp_arr.shape"
   ]
  },
  {
   "cell_type": "markdown",
   "metadata": {},
   "source": [
    "Using `reshape` causes the dimensionality to be known differently, if the vector is specifically defined to be row or colum vector."
   ]
  },
  {
   "cell_type": "code",
   "execution_count": 21,
   "metadata": {},
   "outputs": [
    {
     "output_type": "stream",
     "name": "stdout",
     "text": "[1 2 3]\n(3,)\n\n\n[[1]\n [2]\n [3]]\n(3, 1)\n"
    }
   ],
   "source": [
    "import numpy as np\n",
    "tmp_arr = np.array([1,2,3])\n",
    "\n",
    "print(tmp_arr)\n",
    "print(tmp_arr.shape)\n",
    "\n",
    "print('\\n')\n",
    "\n",
    "tmp_arr2 = np.array([1,2,3]).reshape(-1,1)\n",
    "print(tmp_arr2)\n",
    "print(tmp_arr2.shape)"
   ]
  },
  {
   "cell_type": "markdown",
   "metadata": {},
   "source": [
    "Transposing works simply with `.T`\n",
    "\n",
    "Note: in `numpy`, vectors are not distinguished to be row- or column vectors, they are automatically shifted to make it fit."
   ]
  },
  {
   "cell_type": "code",
   "execution_count": 23,
   "metadata": {},
   "outputs": [
    {
     "output_type": "execute_result",
     "data": {
      "text/plain": "array([1, 2, 3])"
     },
     "metadata": {},
     "execution_count": 23
    }
   ],
   "source": [
    "import numpy as np\n",
    "tmp_arr = np.array([1,2,3])\n",
    "\n",
    "#this does not transpose anything:\n",
    "tmp_arr.T"
   ]
  },
  {
   "cell_type": "markdown",
   "metadata": {},
   "source": [
    "## Tensors\n",
    "\n",
    "We can extend an array (1-dim) to a matrix (2-dim) and a matrix to a tensor (3-dim), by simply stacking matrices together.\n",
    "\n",
    "Note: embracket each matrix into `[ ]` and the whole tensor into `[ ]`."
   ]
  },
  {
   "cell_type": "code",
   "execution_count": 26,
   "metadata": {},
   "outputs": [
    {
     "output_type": "stream",
     "name": "stdout",
     "text": "[[[1 2 3]\n  [4 5 6]\n  [7 8 9]]\n\n [[9 8 7]\n  [6 5 4]\n  [3 2 1]]\n\n [[1 0 0]\n  [0 1 0]\n  [0 0 1]]]\n\n\n(3, 3, 3)\n"
    }
   ],
   "source": [
    "import numpy as np\n",
    "\n",
    "tensor = np.array([[[1,2,3],[4,5,6],[7,8,9]], [[9,8,7],[6,5,4],[3,2,1]], [[1,0,0],[0,1,0],[0,0,1]]])\n",
    "print(tensor)\n",
    "\n",
    "print('\\n')\n",
    "print(tensor.shape)"
   ]
  },
  {
   "cell_type": "markdown",
   "metadata": {},
   "source": [
    "## Accessing arrays (slicing)\n",
    "\n",
    "Accessing any element $\\text{e}_{ijk}$ in a tensor works with `tensor[i][j][k]`.\n",
    "Alternatively: `tensor[i,j,k]`"
   ]
  },
  {
   "cell_type": "code",
   "execution_count": 27,
   "metadata": {},
   "outputs": [
    {
     "output_type": "execute_result",
     "data": {
      "text/plain": "7"
     },
     "metadata": {},
     "execution_count": 27
    }
   ],
   "source": [
    "import numpy as np\n",
    "tensor = np.array([[[1,2,3],[4,5,6],[7,8,9]], [[9,8,7],[6,5,4],[3,2,1]], [[1,0,0],[0,1,0],[0,0,1]]])\n",
    "\n",
    "tensor[1,0,2]"
   ]
  },
  {
   "cell_type": "markdown",
   "metadata": {},
   "source": [
    "We can grab a subset of an array by using `[start_index:stop_index:step_size]`\n",
    "\n",
    "Note: `start_index` is inclusive, `stop_index` is exclusive.\n",
    "\n",
    "Note: if `step_size` is left out, then default is 1.\n",
    "\n",
    "Note: if `start_index` is left out, then default is 0\n",
    "\n",
    "Note: if `stop_index` is left out, then default is the last index.\n",
    "\n",
    "Note: if simply `[:]` is called, then it returns the whole array."
   ]
  },
  {
   "cell_type": "code",
   "execution_count": 28,
   "metadata": {},
   "outputs": [
    {
     "output_type": "stream",
     "name": "stdout",
     "text": "[1 2 3 4]\n[1 2]\n[3 4]\n"
    }
   ],
   "source": [
    "import numpy as np\n",
    "tmp_arr = np.array([1,2,3,4])\n",
    "\n",
    "print(tmp_arr)\n",
    "print(tmp_arr[0:2:1])\n",
    "print(tmp_arr[2:])"
   ]
  },
  {
   "cell_type": "markdown",
   "metadata": {},
   "source": [
    "Accessing a matrix works the same.\n",
    "\n",
    "`[i,:]` accesses the i-th row.\n",
    "`[i]` is the same.\n",
    "\n",
    "`[:,i]` accesses the i-th column.\n"
   ]
  },
  {
   "cell_type": "code",
   "execution_count": 29,
   "metadata": {},
   "outputs": [
    {
     "output_type": "stream",
     "name": "stdout",
     "text": "[[1 0 0]\n [0 1 0]\n [0 0 1]]\n\n\n[0 1 0]\n\n\n"
    },
    {
     "output_type": "execute_result",
     "data": {
      "text/plain": "array([0, 1, 0])"
     },
     "metadata": {},
     "execution_count": 29
    }
   ],
   "source": [
    "import numpy as np\n",
    "tmp_matrix = np.array([[1,0,0], [0,1,0], [0,0,1]])\n",
    "\n",
    "print(tmp_matrix)\n",
    "\n",
    "print('\\n')\n",
    "\n",
    "print(tmp_matrix[1,:])\n",
    "\n",
    "print('\\n')\n",
    "\n",
    "tmp_matrix[:,1]"
   ]
  },
  {
   "cell_type": "markdown",
   "metadata": {},
   "source": [
    "We can precisely select a submatrix by using `[:i,:j]`, where we select everything up to the ith row and everything up to the jth column."
   ]
  },
  {
   "cell_type": "code",
   "execution_count": 30,
   "metadata": {},
   "outputs": [
    {
     "output_type": "execute_result",
     "data": {
      "text/plain": "array([[1, 0],\n       [0, 1]])"
     },
     "metadata": {},
     "execution_count": 30
    }
   ],
   "source": [
    "import numpy as np\n",
    "tmp_matrix = np.array([[1,0,0], [0,1,0], [0,0,1]])\n",
    "\n",
    "#corresponds to upper left submatrix:\n",
    "tmp_matrix[:2,:2]"
   ]
  },
  {
   "cell_type": "markdown",
   "metadata": {},
   "source": [
    "We can precisely select a submatrix by using `[i:k,j:l]`, where we select everything from ith row (inclusively) to kth row (exclusively) and everything from jth column (inclusively) to the lth column."
   ]
  },
  {
   "cell_type": "code",
   "execution_count": 31,
   "metadata": {},
   "outputs": [
    {
     "output_type": "stream",
     "name": "stdout",
     "text": "[[ 1  2  3  4  5]\n [12 32 21 53  4]\n [ 0  1  2  1  3]\n [83 13  1  2  3]\n [ 2  4 13 21  2]]\n"
    },
    {
     "output_type": "execute_result",
     "data": {
      "text/plain": "array([[21],\n       [ 2],\n       [ 1]])"
     },
     "metadata": {},
     "execution_count": 31
    }
   ],
   "source": [
    "import numpy as np\n",
    "\n",
    "big_matrix = np.array([[1,2,3,4,5],[12,32,21,53,4],[0,1,2,1,3],[83,13,1,2,3],[2,4,13,21,2]])\n",
    "print(big_matrix)\n",
    "\n",
    "#corresponds to inner vector [21,2,1]:\n",
    "big_matrix[1:4,2:3]"
   ]
  },
  {
   "cell_type": "markdown",
   "metadata": {},
   "source": [
    "## Filling arrays\n",
    "\n",
    "1. Fill the diagonal with `np.fill_diagonal()`"
   ]
  },
  {
   "cell_type": "code",
   "execution_count": 55,
   "metadata": {},
   "outputs": [
    {
     "output_type": "execute_result",
     "data": {
      "text/plain": "array([[7., 0., 0.],\n       [0., 7., 0.],\n       [0., 0., 7.]])"
     },
     "metadata": {},
     "execution_count": 55
    }
   ],
   "source": [
    "import numpy as np \n",
    "\n",
    "dist_matrix = np.zeros((3,3))\n",
    "np.fill_diagonal(dist_matrix, 7)\n",
    "\n",
    "dist_matrix"
   ]
  },
  {
   "cell_type": "markdown",
   "metadata": {},
   "source": [
    "## Mathematical Operations\n",
    "\n",
    "Mathematical operations in numpy are within `np.linalg`\n",
    "\n",
    "1. `np.linal.matrix_power()` gives the power of a matrix\n",
    "\n",
    "Alternative: `np.power()` gives the power of an array/matrix."
   ]
  },
  {
   "cell_type": "code",
   "execution_count": 32,
   "metadata": {},
   "outputs": [
    {
     "output_type": "stream",
     "name": "stdout",
     "text": "[[ 1  2  3  4  5]\n [12 32 21 53  4]\n [ 0  1  2  1  3]\n [83 13  1  2  3]\n [ 2  4 13 21  2]]\n"
    },
    {
     "output_type": "execute_result",
     "data": {
      "text/plain": "array([[ 367,  141,  120,  226,   44],\n       [4803, 1774,  855, 1955,  418],\n       [ 101,   59,   65,  120,   19],\n       [ 411,  621,  565, 1089,  482],\n       [1797,  426,  163,  317,  132]])"
     },
     "metadata": {},
     "execution_count": 32
    }
   ],
   "source": [
    "import numpy as np\n",
    "\n",
    "big_matrix = np.array([[1,2,3,4,5],[12,32,21,53,4],[0,1,2,1,3],[83,13,1,2,3],[2,4,13,21,2]])\n",
    "print(big_matrix)\n",
    "\n",
    "#calculates ^2 for matrix:\n",
    "np.linalg.matrix_power(big_matrix,2)"
   ]
  },
  {
   "cell_type": "markdown",
   "metadata": {},
   "source": [
    "2. `a.dot(b)` gives the (dot)-product. This is the multiplication.\n",
    "\n",
    "Alternatively: `np.dot(a,b)`\n",
    "\n",
    "If `a` is matrix and `b` matrix, then `a.dot(b)` is simply the matrix-matrix multiplication.\n",
    "\n",
    "If `a` is matrix and `b` vector, then `a.dot(b)` is simply the matrix-vector multiplication.\n",
    "\n",
    "Note: in `numpy`, vectors are not distinguished to be row- or column vectors, they are automatically shifted to make it fit.\n"
   ]
  },
  {
   "cell_type": "code",
   "execution_count": 36,
   "metadata": {},
   "outputs": [
    {
     "output_type": "stream",
     "name": "stdout",
     "text": "[[ 1  2  3  4  5]\n [12 32 21 53  4]\n [ 0  1  2  1  3]\n [83 13  1  2  3]\n [ 2  4 13 21  2]]\n\n\n[1 2 3 4 5]\n"
    },
    {
     "output_type": "execute_result",
     "data": {
      "text/plain": "array([ 55, 371,  27, 135, 143])"
     },
     "metadata": {},
     "execution_count": 36
    }
   ],
   "source": [
    "import numpy as np\n",
    "big_matrix = np.array([[1,2,3,4,5],[12,32,21,53,4],[0,1,2,1,3],[83,13,1,2,3],[2,4,13,21,2]])\n",
    "print(big_matrix)\n",
    "\n",
    "print('\\n')\n",
    "\n",
    "b = np.array([1,2,3,4,5])\n",
    "print(b)\n",
    "\n",
    "#dot-product of big_matrix's rows with b:\n",
    "big_matrix.dot(b)"
   ]
  },
  {
   "cell_type": "markdown",
   "metadata": {},
   "source": [
    "3. Calculation for eigenvalues: if a matrix $\\mathbf{A}$ is given, then we want to find all eigenvectors $v$ and eigenvalues $\\lambda$, which solve the equation $\\mathbf{A} v = \\lambda v$. \n",
    "\n",
    "We can do this using the function `np.linalg.eig()`. \n",
    "\n",
    "It returns two arrays: an array with all the eigenvalues and an array with all the eigenvectors. The i-th element of the eigenvalues corresponds to the i-th column-vector of the eigenvectors.\n",
    "\n",
    "Note: The eigenvectors are not normalized, i.e. any scalar multiple of this vector is also an eigenvector."
   ]
  },
  {
   "cell_type": "code",
   "execution_count": 37,
   "metadata": {},
   "outputs": [
    {
     "output_type": "stream",
     "name": "stdout",
     "text": "[11.  1.  2.]\n[[ 0.          0.          1.        ]\n [ 0.4472136   0.89442719  0.        ]\n [ 0.89442719 -0.4472136   0.        ]]\n"
    }
   ],
   "source": [
    "import numpy as np\n",
    "\n",
    "eig_mat = np.array([[2,0,0],[0,3,4],[0,4,9]])\n",
    "\n",
    "eigvals, eigvecs = np.linalg.eig(eig_mat)\n",
    "print(eigvals)\n",
    "print(eigvecs)"
   ]
  },
  {
   "cell_type": "markdown",
   "metadata": {},
   "source": [
    "Now to verify this, the two products below must be the same.\n",
    "\n",
    "Note: `np.dot()` had to be used, otherwise error, due to formats that are not in this function."
   ]
  },
  {
   "cell_type": "code",
   "execution_count": 41,
   "metadata": {},
   "outputs": [
    {
     "output_type": "stream",
     "name": "stdout",
     "text": "[11.  1.  2.]\n[[ 0.          0.          1.        ]\n [ 0.4472136   0.89442719  0.        ]\n [ 0.89442719 -0.4472136   0.        ]]\n\n\n[0.         4.91934955 9.8386991 ]\n[0.         4.91934955 9.8386991 ]\n"
    }
   ],
   "source": [
    "import numpy as np\n",
    "\n",
    "eig_mat = np.array([[2,0,0],[0,3,4],[0,4,9]])\n",
    "\n",
    "eigvals, eigvecs = np.linalg.eig(eig_mat)\n",
    "print(eigvals)\n",
    "print(eigvecs)\n",
    "\n",
    "print('\\n')\n",
    "\n",
    "#eig_mat * first_eigenvector:\n",
    "print(eig_mat.dot(eigvecs[:,0]))\n",
    "#first_eigenvalue * first_eigenvector:\n",
    "print(np.dot(eigvals[0], eigvecs[:,0]))\n",
    "\n",
    "\n",
    "#this throws error:\n",
    "#eigvals[0].dot(eigvecs[:,0])"
   ]
  },
  {
   "cell_type": "markdown",
   "metadata": {},
   "source": [
    "4. Summing using `np.sum()`.\n",
    "\n",
    "We can use `np.sum()` to sum up anything iterable.\n",
    "\n",
    "Note:  `sum()` fails to iterate if we only have one number, thats why always take `np.sum()`, because it turns the number into a numpy array first, which makes it iterable."
   ]
  },
  {
   "cell_type": "code",
   "execution_count": 42,
   "metadata": {},
   "outputs": [
    {
     "output_type": "stream",
     "name": "stdout",
     "text": "[1, 2, 3]\n[1 2 3]\n3\n"
    }
   ],
   "source": [
    "import numpy as np\n",
    "\n",
    "a = [1,2,3]\n",
    "print(a)\n",
    "\n",
    "b = np.array(a)\n",
    "print(b)\n",
    "\n",
    "#this throws an error, because sum() can't iterate one number:\n",
    "#sum(3)\n",
    "\n",
    "#with np.sum() however, this works:\n",
    "print(np.sum(3))"
   ]
  },
  {
   "cell_type": "markdown",
   "metadata": {},
   "source": [
    "5. Squaring array elements using `np.sum(b**2,1))`"
   ]
  },
  {
   "cell_type": "code",
   "execution_count": 43,
   "metadata": {},
   "outputs": [
    {
     "output_type": "stream",
     "name": "stdout",
     "text": "[[1]\n [2]\n [3]]\n[1 4 9]\n[14]\n"
    }
   ],
   "source": [
    "import numpy as np\n",
    "\n",
    "#Define column vector:\n",
    "b = np.array([1,2,3]).reshape(-1,1)\n",
    "print(b)\n",
    "#sum by axis=1, i.e. squaring and adding up row elements (here is only one element per row, since we have column vector):\n",
    "print(np.sum(b**2,1))\n",
    "\n",
    "#sum by axis=0, i.e. squaring and adding up column elements (here is only column, so the result is the squared sum of elements):\n",
    "print(np.sum(b**2,0))"
   ]
  },
  {
   "cell_type": "markdown",
   "metadata": {},
   "source": [
    "<img src=\"axis_numpy.jpg\">"
   ]
  },
  {
   "cell_type": "markdown",
   "metadata": {},
   "source": [
    "6. Take the square root by using `np.sqrt()`"
   ]
  },
  {
   "cell_type": "code",
   "execution_count": 44,
   "metadata": {},
   "outputs": [
    {
     "output_type": "execute_result",
     "data": {
      "text/plain": "4.0"
     },
     "metadata": {},
     "execution_count": 44
    }
   ],
   "source": [
    "import numpy as np\n",
    "\n",
    "np.sqrt(16)"
   ]
  },
  {
   "cell_type": "markdown",
   "metadata": {},
   "source": [
    "# Scipy\n",
    "\n",
    "`Scipy` is a package that supports basic tools for statistical analysis.\n",
    "\n",
    "## Sparse matrices\n",
    "\n",
    "We can use `scipy.sparse.csr_matrix()` to store sparse matrices. This is a special scipy object that only stores the  values from a numpy array that are different to 0 and their positions."
   ]
  },
  {
   "cell_type": "code",
   "execution_count": 45,
   "metadata": {},
   "outputs": [
    {
     "output_type": "stream",
     "name": "stdout",
     "text": "[[1. 0. 1. 0. 0.]\n [0. 1. 0. 0. 0.]\n [0. 0. 1. 0. 0.]\n [1. 0. 0. 0. 0.]\n [1. 1. 0. 0. 1.]]\n  (0, 0)\t1.0\n  (0, 2)\t1.0\n  (1, 1)\t1.0\n  (2, 2)\t1.0\n  (3, 0)\t1.0\n  (4, 0)\t1.0\n  (4, 1)\t1.0\n  (4, 4)\t1.0\n"
    }
   ],
   "source": [
    "import numpy as np\n",
    "import scipy.sparse\n",
    "\n",
    "matrix = np.array([[1.,0.,1.,0.,0.], [0.,1.,0.,0.,0.], [0.,0.,1.,0.,0.], [1.,0.,0.,0.,0.], [1.,1.,0.,0.,1.]])\n",
    "print(matrix)\n",
    "\n",
    "#Turn matrix into sparse object:\n",
    "sparse_matrix = scipy.sparse.csr_matrix(matrix)\n",
    "print(sparse_matrix)"
   ]
  },
  {
   "cell_type": "markdown",
   "metadata": {},
   "source": [
    "We can turn this sparse matrix object back into a numpy array by using `todense()`."
   ]
  },
  {
   "cell_type": "code",
   "execution_count": 48,
   "metadata": {},
   "outputs": [
    {
     "output_type": "stream",
     "name": "stdout",
     "text": "[[1. 0. 1. 0. 0.]\n [0. 1. 0. 0. 0.]\n [0. 0. 1. 0. 0.]\n [1. 0. 0. 0. 0.]\n [1. 1. 0. 0. 1.]]\n  (0, 0)\t1.0\n  (0, 2)\t1.0\n  (1, 1)\t1.0\n  (2, 2)\t1.0\n  (3, 0)\t1.0\n  (4, 0)\t1.0\n  (4, 1)\t1.0\n  (4, 4)\t1.0\n\n\n"
    },
    {
     "output_type": "execute_result",
     "data": {
      "text/plain": "matrix([[1., 0., 1., 0., 0.],\n        [0., 1., 0., 0., 0.],\n        [0., 0., 1., 0., 0.],\n        [1., 0., 0., 0., 0.],\n        [1., 1., 0., 0., 1.]])"
     },
     "metadata": {},
     "execution_count": 48
    }
   ],
   "source": [
    "import numpy as np\n",
    "import scipy.sparse\n",
    "\n",
    "matrix = np.array([[1.,0.,1.,0.,0.], [0.,1.,0.,0.,0.], [0.,0.,1.,0.,0.], [1.,0.,0.,0.,0.], [1.,1.,0.,0.,1.]])\n",
    "print(matrix)\n",
    "\n",
    "#Turn matrix into sparse object:\n",
    "sparse_matrix = scipy.sparse.csr_matrix(matrix)\n",
    "print(sparse_matrix)\n",
    "\n",
    "print('\\n')\n",
    "\n",
    "#Turn sparse object back into full matrix:\n",
    "sparse_matrix.todense()"
   ]
  },
  {
   "cell_type": "markdown",
   "metadata": {},
   "source": [
    "Using `scipy.sparse.linalg.eigs()`, we can perform eigenvector and -value decomposition on such a sparse object.\n",
    "\n",
    "Note: `k` (number of eigenvectors) needs to specified (must be smaller than N-1) \n",
    "\n",
    "Note: for this, the matrix must consist of `floats` (or doubles)"
   ]
  },
  {
   "cell_type": "code",
   "execution_count": 49,
   "metadata": {},
   "outputs": [
    {
     "output_type": "stream",
     "name": "stdout",
     "text": "[[1. 0. 1. 0. 0.]\n [0. 1. 0. 0. 0.]\n [0. 0. 1. 0. 0.]\n [1. 0. 0. 0. 0.]\n [1. 1. 0. 0. 1.]]\n  (0, 0)\t1.0\n  (0, 2)\t1.0\n  (1, 1)\t1.0\n  (2, 2)\t1.0\n  (3, 0)\t1.0\n  (4, 0)\t1.0\n  (4, 1)\t1.0\n  (4, 4)\t1.0\n\n\n[1.00000165-2.85665178e-06j]\n[[ 2.85665179e-06+1.64929754e-06j]\n [-8.83308335e-15+5.10030386e-15j]\n [ 9.42293752e-12-5.44075895e-12j]\n [ 2.85664237e-06+1.64930298e-06j]\n [-9.42293752e-12+1.00000000e+00j]]\n"
    }
   ],
   "source": [
    "import numpy as np\n",
    "import scipy.sparse\n",
    "\n",
    "matrix = np.array([[1.,0.,1.,0.,0.], [0.,1.,0.,0.,0.], [0.,0.,1.,0.,0.], [1.,0.,0.,0.,0.], [1.,1.,0.,0.,1.]])\n",
    "print(matrix)\n",
    "\n",
    "#Turn matrix into sparse object:\n",
    "sparse_matrix = scipy.sparse.csr_matrix(matrix)\n",
    "print(sparse_matrix)\n",
    "\n",
    "print('\\n')\n",
    "\n",
    "import scipy.sparse.linalg\n",
    "\n",
    "eigenvalues, eigenvectors = scipy.sparse.linalg.eigs(sparse_matrix, k=1)\n",
    "print(eigenvalues)\n",
    "print(eigenvectors)"
   ]
  },
  {
   "cell_type": "markdown",
   "metadata": {},
   "source": [
    "## Sampling from distribution\n",
    "\n",
    "With `numpy.random.normal(loc, scale, size)`, we can easily sample from a Gaussian normal distribution\n",
    "\n",
    "`loc` = mean value $\\mu$\n",
    "\n",
    "`scale` = standard deviation $\\sigma$\n",
    "\n",
    "`size` = how often to sample (e.g. `size=3` samples 3 times; `size=(3,2)` creates an array of 3*2 samples)\n",
    "\n",
    "\n",
    "The probability density for the Gaussian distribution is $p(x) = \\frac{1}{\\sqrt{ 2 \\pi \\sigma^2 }} e^{ - \\frac{ (x - \\mu)^2 } {2 \\sigma^2} }$.\n",
    "\n"
   ]
  },
  {
   "cell_type": "code",
   "execution_count": 50,
   "metadata": {},
   "outputs": [
    {
     "output_type": "stream",
     "name": "stdout",
     "text": "0.18403998305958935\n\n\n[[ 1.83101571 -0.0537496 ]\n [ 0.42525813  1.78356878]\n [ 6.49393071  2.20291782]]\n"
    }
   ],
   "source": [
    "import numpy as np\n",
    "\n",
    "#Quickly sample from standard normal distribution: \n",
    "#likely to return values close to 0; with 60,7% chance, values are drawn from intervall [mu - sigma, mu + sigma] = [-1,1]\n",
    "print(np.random.normal())\n",
    "print('\\n')\n",
    "\n",
    "print(np.random.normal(loc=3, scale=2, size=(3,2)))"
   ]
  },
  {
   "cell_type": "markdown",
   "metadata": {},
   "source": [
    "## Random variables\n",
    "\n",
    "With scipy, we can easily generate random variables using `scipy.stats`.\n",
    "\n",
    "There is a whole list of classes to use: (https://docs.scipy.org/doc/scipy/reference/stats.html)\n",
    "\n",
    "1. Standard normal distribution ($\\mu = 0, \\sigma = 1$): `scipy.stats.norm.rvs()`"
   ]
  },
  {
   "cell_type": "code",
   "execution_count": 51,
   "metadata": {},
   "outputs": [
    {
     "output_type": "execute_result",
     "data": {
      "text/plain": "array([-0.18427736,  0.10634588,  1.73125508, -0.06577221, -0.45941433,\n       -0.09785844, -1.00863933,  0.7362902 ,  0.11148391, -0.11480376])"
     },
     "metadata": {},
     "execution_count": 51
    }
   ],
   "source": [
    "import scipy.stats\n",
    "\n",
    "#array of 10 random realisations of standard normal distribution:\n",
    "st_norm_distr = scipy.stats.norm.rvs(size=10)\n",
    "st_norm_distr"
   ]
  },
  {
   "cell_type": "markdown",
   "metadata": {},
   "source": [
    "2. Normal distribution (any $\\mu ,\\sigma$): $\\mu$ + $\\sigma$ * `scipy.stats.norm.rvs()`"
   ]
  },
  {
   "cell_type": "code",
   "execution_count": 52,
   "metadata": {},
   "outputs": [
    {
     "output_type": "execute_result",
     "data": {
      "text/plain": "array([ 9.61404115, 12.97977416,  4.93116252, 16.26156784,  8.37666739,\n       10.72013209, 12.40569189,  9.01330513,  8.07262152,  8.71480822])"
     },
     "metadata": {},
     "execution_count": 52
    }
   ],
   "source": [
    "import scipy.stats\n",
    "\n",
    "#array of 10 random realisations of normal distribution with mean=10 and standard deviation = 3:\n",
    "norm_distr = 10 + 3 * scipy.stats.norm.rvs(size=10)\n",
    "norm_distr"
   ]
  },
  {
   "cell_type": "markdown",
   "metadata": {},
   "source": [
    "3. CDF (Verteilungsfunktion) of normal distribution: `scipy.stats.norm.cdf()`"
   ]
  },
  {
   "cell_type": "code",
   "execution_count": 53,
   "metadata": {},
   "outputs": [
    {
     "output_type": "execute_result",
     "data": {
      "text/plain": "0.5"
     },
     "metadata": {},
     "execution_count": 53
    }
   ],
   "source": [
    "import scipy.stats\n",
    "\n",
    "#Gaußsche Glockenkurve hat bei x=0 die Hälfte der Masse:\n",
    "scipy.stats.norm.cdf(x=0)"
   ]
  }
 ],
 "metadata": {
  "language_info": {
   "name": "python",
   "codemirror_mode": {
    "name": "ipython",
    "version": 3
   },
   "version": "3.7.7-final"
  },
  "orig_nbformat": 2,
  "file_extension": ".py",
  "mimetype": "text/x-python",
  "name": "python",
  "npconvert_exporter": "python",
  "pygments_lexer": "ipython3",
  "version": 3,
  "kernelspec": {
   "name": "python37764bitenvaiconda319b66fa86a94f0e8ad994fead5cbf9a",
   "display_name": "Python 3.7.7 64-bit ('env_ai': conda)"
  }
 },
 "nbformat": 4,
 "nbformat_minor": 2
}