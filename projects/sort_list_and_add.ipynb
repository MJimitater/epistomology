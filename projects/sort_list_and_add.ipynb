{
 "metadata": {
  "language_info": {
   "codemirror_mode": {
    "name": "ipython",
    "version": 3
   },
   "file_extension": ".py",
   "mimetype": "text/x-python",
   "name": "python",
   "nbconvert_exporter": "python",
   "pygments_lexer": "ipython3",
   "version": "3.7.6-final"
  },
  "orig_nbformat": 2,
  "kernelspec": {
   "name": "python3",
   "display_name": "Python 3",
   "language": "python"
  }
 },
 "nbformat": 4,
 "nbformat_minor": 2,
 "cells": [
  {
   "cell_type": "code",
   "execution_count": 94,
   "metadata": {},
   "outputs": [],
   "source": [
    "import numpy as np"
   ]
  },
  {
   "cell_type": "code",
   "execution_count": 95,
   "metadata": {},
   "outputs": [
    {
     "output_type": "stream",
     "name": "stdout",
     "text": [
      "[83, 5, 49, 8, 64, 71, 32, 85, 79, 94, 51, 61, 16, 10, 47, 62, 87, 79, 67, 44]\n[90, 39, 19, 21, 28, 63, 49, 55, 40, 84, 30, 87, 60, 94, 46, 38, 86, 77, 97, 66]\n"
     ]
    }
   ],
   "source": [
    "#Create lists:\n",
    "\n",
    "list_length = 20\n",
    "pool_of_numbers = 100\n",
    "\n",
    "l1 = []\n",
    "\n",
    "\n",
    "for _ in range(list_length):\n",
    "    l1.append(np.random.randint(pool_of_numbers))\n",
    "\n",
    "l2 = []\n",
    "\n",
    "for _ in range(list_length):\n",
    "    l2.append(np.random.randint(pool_of_numbers))\n",
    "\n",
    "print(l1)\n",
    "print(l2)"
   ]
  },
  {
   "cell_type": "code",
   "execution_count": 96,
   "metadata": {},
   "outputs": [],
   "source": [
    "def sort_lists(input_list):\n",
    "\n",
    "    sorted_l = []\n",
    "\n",
    "    while len(input_list) != 0:\n",
    "\n",
    "        mini = min(input_list)\n",
    "\n",
    "        sorted_l.append(mini)\n",
    "\n",
    "        input_list.remove(mini)\n",
    "    \n",
    "    return sorted_l\n",
    "    "
   ]
  },
  {
   "cell_type": "code",
   "execution_count": 97,
   "metadata": {},
   "outputs": [],
   "source": [
    "def calc_max(input_list1, input_list2):\n",
    "\n",
    "    input_copy1 = input_list1.copy()\n",
    "    input_copy2 = input_list2.copy()\n",
    "\n",
    "    sorted1 = sort_lists(input_copy1)\n",
    "    sorted2 = sort_lists(input_copy2)\n",
    "\n",
    "    add_max_both = max(sorted1) + max(sorted2)\n",
    "\n",
    "    return sorted1, sorted2, add_max_both"
   ]
  },
  {
   "cell_type": "code",
   "execution_count": 98,
   "metadata": {},
   "outputs": [
    {
     "output_type": "stream",
     "name": "stdout",
     "text": [
      "Sorted first list: [5, 8, 10, 16, 32, 44, 47, 49, 51, 61, 62, 64, 67, 71, 79, 79, 83, 85, 87, 94]\nSorted second list: [19, 21, 28, 30, 38, 39, 40, 46, 49, 55, 60, 63, 66, 77, 84, 86, 87, 90, 94, 97]\nAddition of the max values of the two: 191\n"
     ]
    }
   ],
   "source": [
    "s1, s2, m = calc_max(l1, l2)\n",
    "\n",
    "print(\"Sorted first list:\", s1)\n",
    "print(\"Sorted second list:\", s2)\n",
    "print(\"Addition of the max values of the two:\", m)"
   ]
  },
  {
   "source": [
    "TODO:\n",
    "\n",
    "don't use max function; find it manually"
   ],
   "cell_type": "markdown",
   "metadata": {}
  }
 ]
}