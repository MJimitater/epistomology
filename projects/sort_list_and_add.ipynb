{
 "metadata": {
  "language_info": {
   "codemirror_mode": {
    "name": "ipython",
    "version": 3
   },
   "file_extension": ".py",
   "mimetype": "text/x-python",
   "name": "python",
   "nbconvert_exporter": "python",
   "pygments_lexer": "ipython3",
   "version": "3.8.1-final"
  },
  "orig_nbformat": 2,
  "kernelspec": {
   "name": "python3",
   "display_name": "Python 3",
   "language": "python"
  }
 },
 "nbformat": 4,
 "nbformat_minor": 2,
 "cells": [
  {
   "cell_type": "code",
   "execution_count": 13,
   "metadata": {},
   "outputs": [],
   "source": [
    "import numpy as np"
   ]
  },
  {
   "cell_type": "code",
   "execution_count": 14,
   "metadata": {},
   "outputs": [
    {
     "output_type": "stream",
     "name": "stdout",
     "text": [
      "[61, 53, 36, 34, 77, 22, 78, 91, 64, 24, 64, 35, 56, 39, 44, 18, 31, 68, 61, 68]\n[34, 22, 13, 39, 16, 16, 28, 98, 51, 77, 73, 75, 72, 91, 18, 7, 93, 33, 70, 23]\n"
     ]
    }
   ],
   "source": [
    "#Create lists:\n",
    "\n",
    "list_length = 20\n",
    "pool_of_numbers = 100\n",
    "\n",
    "l1 = []\n",
    "\n",
    "\n",
    "for _ in range(list_length):\n",
    "    l1.append(np.random.randint(pool_of_numbers))\n",
    "\n",
    "l2 = []\n",
    "\n",
    "for _ in range(list_length):\n",
    "    l2.append(np.random.randint(pool_of_numbers))\n",
    "\n",
    "print(l1)\n",
    "print(l2)"
   ]
  },
  {
   "cell_type": "code",
   "execution_count": 15,
   "metadata": {},
   "outputs": [],
   "source": [
    "def min_of_list(input_list):\n",
    "\n",
    "    stepper = input_list[0]\n",
    "\n",
    "    for i in range(len(input_list)):\n",
    "        if stepper > input_list[i]:\n",
    "            stepper = input_list[i]\n",
    "    \n",
    "    return stepper\n"
   ]
  },
  {
   "cell_type": "code",
   "execution_count": 16,
   "metadata": {},
   "outputs": [],
   "source": [
    "def sort_lists(input_list):\n",
    "\n",
    "    sorted_l = []\n",
    "\n",
    "    while len(input_list) != 0:\n",
    "\n",
    "        mini = min_of_list(input_list)\n",
    "\n",
    "        sorted_l.append(mini)\n",
    "\n",
    "        input_list.remove(mini)\n",
    "    \n",
    "    return sorted_l\n",
    "    "
   ]
  },
  {
   "cell_type": "code",
   "execution_count": 17,
   "metadata": {},
   "outputs": [],
   "source": [
    "def calc_max(input_list1, input_list2):\n",
    "\n",
    "    input_copy1 = input_list1.copy()\n",
    "    input_copy2 = input_list2.copy()\n",
    "\n",
    "    sorted1 = sort_lists(input_copy1)\n",
    "    sorted2 = sort_lists(input_copy2)\n",
    "\n",
    "    #Adding max values of both lists: add last elements of sorted lists:\n",
    "    add_max_both = sorted1[-1] + sorted2[-1]\n",
    "\n",
    "    return sorted1, sorted2, add_max_both"
   ]
  },
  {
   "cell_type": "code",
   "execution_count": 18,
   "metadata": {},
   "outputs": [
    {
     "output_type": "stream",
     "name": "stdout",
     "text": [
      "Sorted first list: [18, 22, 24, 31, 34, 35, 36, 39, 44, 53, 56, 61, 61, 64, 64, 68, 68, 77, 78, 91]\nSorted second list: [7, 13, 16, 16, 18, 22, 23, 28, 33, 34, 39, 51, 70, 72, 73, 75, 77, 91, 93, 98]\nAddition of the max values of the two: 189\n"
     ]
    }
   ],
   "source": [
    "s1, s2, m = calc_max(l1, l2)\n",
    "\n",
    "print(\"Sorted first list:\", s1)\n",
    "print(\"Sorted second list:\", s2)\n",
    "print(\"Addition of the max values of the two:\", m)"
   ]
  }
 ]
}