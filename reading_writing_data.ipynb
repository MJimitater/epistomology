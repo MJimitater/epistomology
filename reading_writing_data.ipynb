{
 "nbformat": 4,
 "nbformat_minor": 2,
 "metadata": {
  "language_info": {
   "name": "python",
   "codemirror_mode": {
    "name": "ipython",
    "version": 3
   },
   "version": "3.7.3"
  },
  "orig_nbformat": 2,
  "file_extension": ".py",
  "mimetype": "text/x-python",
  "name": "python",
  "npconvert_exporter": "python",
  "pygments_lexer": "ipython3",
  "version": 3
 },
 "cells": [
  {
   "cell_type": "markdown",
   "execution_count": null,
   "metadata": {},
   "outputs": [],
   "source": [
    "## Opening text file\n",
    "\n",
    "Using the `open()` function, we can create a handle to a `.txt` file.\n",
    "\n",
    "The parameter ` 'r' ` means read mode.\n",
    "\n",
    "With `read()`, we can read that file to analyse it.\n",
    "\n",
    "Normally we would have to `close()` the file after reading, but using `with` packs the commands into a context and closes the context automatically after leaving `with`. "
   ]
  },
  {
   "cell_type": "code",
   "execution_count": 7,
   "metadata": {},
   "outputs": [
    {
     "name": "stdout",
     "output_type": "stream",
     "text": "[Errno 2] No such file or directory: 'Practice_Lecture_P02'\n/home/luc/Dokumente/Uni/Data Science/Übungen/Practice_Lecture_P02\n<class 'str'>\n193158\n"
    }
   ],
   "source": [
    "#navigate to location of the .txt file:\n",
    "%cd \"Practice_Lecture_P02\"\n",
    "\n",
    "#open txt file as a single long string:\n",
    "with open('data/posterior_analytics.txt', 'r') as f:\n",
    "    text = f.read()\n",
    "\n",
    "print(type(text))\n",
    "print(len(text))\n",
    "text"
   ]
  },
  {
   "cell_type": "markdown",
   "execution_count": null,
   "metadata": {},
   "outputs": [],
   "source": [
    "This doesn't account for line breaks. \n",
    "\n",
    "We can store each line in a string and put the strings into a list, by using `readlines()`."
   ]
  },
  {
   "cell_type": "code",
   "execution_count": 6,
   "metadata": {},
   "outputs": [
    {
     "name": "stdout",
     "output_type": "stream",
     "text": "<class 'list'>\n3192\nPosterior Analytics\n\n"
    },
    {
     "data": {
      "text/plain": "ide a Many, but it does necessarily imply the possibility\\n',\n 'of truly predicating one of many; since without this possibility we\\n',\n 'cannot save the universal, and if the universal goes, the middle term\\n',\n 'goes witb. it, and so demonstration becomes impossible. We conclude,\\n',\n 'then, that there must be a single identical term unequivocally predicable\\n',\n 'of a number of individuals. \\n',\n '\\n',\n 'The law that it is impossible to affirm and deny simultaneously the\\n',\n 'same predicate of the same subject is not expressly posited by any\\n',\n 'demonstration except when the conclusion also has to be expressed\\n',\n 'in that form; in which case the proof lays down as its major premiss\\n',\n 'that the major is truly affirmed of the middle but falsely denied.\\n',\n 'It makes no difference, however, if we add to the middle, or again\\n',\n 'to the minor term, the corresponding negative. For grant a minor term\\n',\n 'of which it is true to predicate man-even if it be also true to predicate\\n',\n 'not-man of it--still grant simply that man is animal and not not-animal,\\n',\n 'and the conclusion follows: for it will still be true to say that\\n',\n 'Callias--even if it be also true to say that not-Callias--is animal\\n',\n 'and not not-animal. The reason is that the major term is predicable\\n',\n 'not only of the middle, but of something other than the middle as\\n',\n 'well, being of wider application; so that the conclusion is not affected\\n',\n 'even if the middle is extended to cover the original middle term and\\n',\n 'also what is not the original middle term. \\n',\n '\\n',\n 'The law that every predicate can be either truly affirmed or truly\\n',\n 'denied of every subject is posited by such demonstration as uses reductio\\n',\n 'ad impossibile, and then not always universally, but so far as it\\n',\n 'is requisite; within the limits, that is, of the genus-the genus,\\n',\n 'I mean (as I have already explained), to which the man of science\\n',\n 'applies his demonstrations. In virtue of the common elements of demonstration-I\\n',\n 'mean the common axioms which are used as premisses of demonstration,\\n',\n 'not the subjects nor the attributes demonstrated as belonging to them-all\\n',\n 'the sciences have communion with one another, and in communion with\\n',\n 'them all is dialectic and any science which might attempt a universal\\n',\n 'proof of axioms such as the law of excluded middle, the law that the\\n',\n 'subtraction of equals from equals leaves equal remainders, or other\\n',\n 'axioms of the same kind. Dialectic has no definite sphere of this\\n',\n 'kind, not being confined to a single genus. Otherwise its method would\\n',\n 'not be interrogative; for the interrogative method is barred to the\\n',\n 'demonstrator, who cannot use the opposite facts to prove the same\\n',\n 'nexus. This was shown in my work on the syllogism. \\n',\n '\\n',\n 'Part 12\\n',\n '\\n',\n 'If a syllogistic question is equivalent to a proposition embodying\\n',\n 'one of the two sides of a contradiction, and if each science has its\\n',\n 'peculiar propositions from which its peculiar conclusion is developed,\\n',\n 'then there is such a thing as a distinctively scientific question,\\n',\n \"and it is the interrogative form of the premisses from which the 'appropriate'\\n\",\n 'conclusion of each science is developed. Hence it is clear that not\\n',\n 'every question will be relevant to geometry, nor to medicine, nor\\n',\n 'to any other science: only those questions will be geometrical which\\n',\n 'form premisses for the proof of the theorems of geometry or of any\\n',\n 'other science, such as optics, which uses the same basic truths as\\n',\n 'geometry. Of the other sciences the like is true. Of these questions\\n',\n 'the geometer is bound to give his account, using the basic truths\\n',\n 'of geometry in conjunction with his previous conclusions; of the basic\\n',\n 'truths the geometer, as such, is not bound to give any account. The\\n',\n 'like is true of the other sciences. There is a limit, then, to the\\n',\n 'questions which we may put to each man of science; nor is each man\\n',\n 'of science bound to answer all inquiries on each several subject,\\n',\n 'but only such as fall within the defined field of his own science.\\n',\n 'If, then, in controversy with a geometer qua geometer the disputant\\n',\n 'confines himself to geometry and proves anything from geometrical\\n',\n 'premisses, he is clearly to be applauded; if he goes outside these\\n',\n 'he will be at fault, and obviously cannot even refute the geometer\\n',\n 'except accidentally. One should therefore not discuss geometry among\\n',\n 'those who are not geometers, for in such a company an unsound argument\\n',\n 'will pass unnoticed. This is correspondingly true in the other sciences.\\n',\n '\\n',\n \"Since there are 'geometrical' questions, does it follow that there\\n\",\n \"are also distinctively 'ungeometrical' questions? Further, in each\\n\",\n 'special science-geometry for instance-what kind of error is it that\\n',\n 'may vitiate questions, and yet not exclude them from that science?\\n',\n 'Again, is the erroneous conclusion one constructed from premisses\\n',\n 'opposite to the true premisses, or is it formal fallacy though drawn\\n',\n 'from geometrical premisses? Or, perhaps, the erroneous conclusion\\n',\n 'is due to the drawing of premisses from another science; e.g. in a\\n',\n 'geometrical controversy a musical question is distinctively ungeometrical,\\n',\n 'whereas the notion that parallels meet is in one sense geometrical,\\n',\n 'being ungeometrical in a different fashion: the reason being that\\n',\n \"'ungeometrical', like 'unrhythmical', is equivocal, meaning in the\\n\",\n 'one case not geometry at all, in the other bad geometry? It is this\\n',\n \"error, i.e. error based on premisses of this kind-'of' the science\\n\",\n 'but false-that is the contrary of science. In mathematics the formal\\n',\n 'fallacy is not so common, because it is the middle term in which the\\n',\n 'ambiguity lies, since the major is predicated of the whole of the\\n',\n 'middle and the middle of the whole of the minor (the predicate of\\n',\n \"course never has the prefix 'all'); and in mathematics one can, so\\n\",\n 'to speak, see these middle terms with an intellectual vision, while\\n',\n \"in dialectic the ambiguity may escape detection. E.g. 'Is every circle\\n\",\n \"a figure?' A diagram shows that this is so, but the minor premiss\\n\",\n \"'Are epics circles?' is shown by the diagram to be false.\\n\",\n '\\n',\n 'If a proof has an inductive minor premiss, one should not bring an\\n',\n \"'objection' against it. For since every premiss must be applicable\\n\",\n 'to a number of cases (otherwise it will not be true in every instance,\\n',\n 'which, since the syllogism proceeds from universals, it must be),\\n',\n \"then assuredly the same is true of an 'objection'; since premisses\\n\",\n \"and 'objections' are so far the same that anything which can be validly\\n\",\n \"advanced as an 'objection' must be such that it could take the form\\n\",\n 'of a premiss, either demonstrative or dialectical. On the other hand,\\n',\n 'arguments formally illogical do sometimes occur through taking as\\n',\n 'middles mere attributes of the major and minor terms. An instance\\n',\n \"of this is Caeneus' proof that fire increases in geometrical proportion:\\n\",\n \"'Fire', he argues, 'increases rapidly, and so does geometrical proportion'.\\n\",\n 'There is no syllogism so, but there is a syllogism if the most rapidly\\n',\n 'increasing proportion is geometrical and the most rapidly increasing\\n',\n 'proportion is attributable to fire in its motion. Sometimes, no doubt,\\n',\n 'it is impossible to reason from premisses predicating mere attributes:\\n',\n 'but sometimes it is possible, though the possibility is overlooked.\\n',\n \"If false premisses could never give true conclusions 'resolution'\\n\",\n 'would be easy, for premisses and conclusion would in that case inevitably\\n',\n 'reciprocate. I might then argue thus: let A be an existing fact; let\\n',\n 'the existence of A imply such and such facts actually known to me\\n',\n 'to exist, which we may call B. I can now, since they reciprocate,\\n',\n 'infer A from B. \\n',\n '\\n',\n 'Reciprocation of premisses and conclusion is more frequent in mathematics,\\n',\n 'because mathematics takes definitions, but never an accident, for\\n',\n 'its premisses-a second characteristic distinguishing mathematical\\n',\n 'reasoning from dialectical disputations. \\n',\n '\\n',\n 'A science expands not by the interposition of fresh middle terms,\\n',\n 'but by the apposition of fresh extreme terms. E.g. A is predicated\\n',\n 'of B, B of C, C of D, and so indefinitely. Or the expansion may be\\n',\n 'lateral: e.g. one major A, may be proved of two minors, C and E. Thus\\n',\n 'let A represent number-a number or number taken indeterminately; B\\n',\n 'determinate odd number; C any particular odd number. We can then predicate\\n',\n 'A of C. Next let D represent determinate even number, and E even number.\\n',\n 'Then A is predicable of E. \\n',\n '\\n',\n 'Part 13\\n',\n '\\n',\n 'Knowledge of the fact differs from knowledge of the reasoned fact.\\n',\n 'To begin with, they differ within the same science and in two ways:\\n',\n '(1) when the premisses of the syllogism are not immediate (for then\\n',\n 'the proximate cause is not contained in them-a necessary condition\\n',\n 'of knowledge of the reasoned fact): (2) when the premisses are immediate,\\n',\n 'but instead of the cause the better known of the two reciprocals is\\n',\n 'taken as the middle; for of two reciprocally predicable terms the\\n',\n 'one which is not the cause may quite easily be the better known and\\n',\n 'so become the middle term of the demonstration. Thus (2, a) you might\\n',\n 'prove as follows that the planets are near because they do not twinkle:\\n',\n 'let C be the planets, B not twinkling, A proximity. Then B is predicable\\n',\n 'of C; for the planets do not twinkle. But A is also predicable of\\n',\n 'B, since that which does not twinkle is near--we must take this truth\\n',\n 'as having been reached by induction or sense-perception. Therefore\\n',\n 'A is a necessary predicate of C; so that we have demonstrated that\\n',\n 'the planets are near. This syllogism, then, proves not the reasoned\\n',\n 'fact but only the fact; since they are not near because they do not\\n',\n 'twinkle, but, because they are near, do not twinkle. The major and\\n',\n 'middle of the proof, however, may be reversed, and then the demonstration\\n',\n 'will be of the reasoned fact. Thus: let C be the planets, B proximity,\\n',\n 'A not twinkling. Then B is an attribute of C, and A-not twinkling-of\\n',\n 'B. Consequently A is predicable of C, and the syllogism proves the\\n',\n 'reasoned fact, since its middle term is the proximate cause. Another\\n',\n 'example is the inference that the moon is spherical from its manner\\n',\n 'of waxing. Thus: since that which so waxes is spherical, and since\\n',\n 'the moon so waxes, clearly the moon is spherical. Put in this form,\\n',\n 'the syllogism turns out to be proof of the fact, but if the middle\\n',\n 'and major be reversed it is proof of the reasoned fact; since the\\n',\n 'moon is not spherical because it waxes in a certain manner, but waxes\\n',\n 'in such a manner because it is spherical. (Let C be the moon, B spherical,\\n',\n 'and A waxing.) Again (b), in cases where the cause and the effect\\n',\n 'are not reciprocal and the effect is the better known, the fact is\\n',\n 'demonstrated but not the reasoned fact. This also occurs (1) when\\n',\n 'the middle falls outside the major and minor, for here too the strict\\n',\n 'cause is not given, and so the demonstration is of the fact, not of\\n',\n \"the reasoned fact. For example, the question 'Why does not a wall\\n\",\n \"breathe?' might be answered, 'Because it is not an animal'; but that\\n\",\n 'answer would not give the strict cause, because if not being an animal\\n',\n 'causes the absence of respiration, then being an animal should be\\n',\n 'the cause of respiration, according to the rule that if the negation\\n',\n 'of causes the non-inherence of y, the affirmation of x causes the\\n',\n 'inherence of y; e.g. if the disproportion of the hot and cold elements\\n',\n 'is the cause of ill health, their proportion is the cause of health;\\n',\n 'and conversely, if the assertion of x causes the inherence of y, the\\n',\n \"negation of x must cause y's non-inherence. But in the case given\\n\",\n 'this consequence does not result; for not every animal breathes. A\\n',\n 'syllogism with this kind of cause takes place in the second figure.\\n',\n 'Thus: let A be animal, B respiration, C wall. Then A is predicable\\n',\n 'of all B (for all that breathes is animal), but of no C; and consequently\\n',\n 'B is predicable of no C; that is, the wall does not breathe. Such\\n',\n 'causes are like far-fetched explanations, which precisely consist\\n',\n \"in making the cause too remote, as in Anacharsis' account of why the\\n\",\n 'Scythians have no flute-players; namely because they have no vines.\\n',\n '\\n',\n 'Thus, then, do the syllogism of the fact and the syllogism of the\\n',\n 'reasoned fact differ within one science and according to the position\\n',\n 'of the middle terms. But there is another way too in which the fact\\n',\n 'and the reasoned fact differ, and that is when they are investigated\\n',\n 'respectively by different sciences. This occurs in the case of problems\\n',\n 'related to one another as subordinate and superior, as when optical\\n',\n 'problems are subordinated to geometry, mechanical problems to stereometry,\\n',\n 'harmonic problems to arithmetic, the data of observation to astronomy.\\n',\n '(Some of these sciences bear almost the same name; e.g. mathematical\\n',\n 'and nautical astronomy, mathematical and acoustical harmonics.) Here\\n',\n 'it is the business of the empirical observers to know the fact, of\\n',\n 'the mathematicians to know the reasoned fact; for the latter are in\\n',\n 'possession of the demonstrations giving the causes, and are often\\n',\n 'ignorant of the fact: just as we have often a clear insight into a\\n',\n 'universal, but through lack of observation are ignorant of some of\\n',\n 'its particular instances. These connexions have a perceptible existence\\n',\n 'though they are manifestations of forms. For the mathematical sciences\\n',\n 'concern forms: they do not demonstrate properties of a substratum,\\n',\n 'since, even though the geometrical subjects are predicable as properties\\n',\n 'of a perceptible substratum, it is not as thus predicable that the\\n',\n 'mathematician demonstrates properties of them. As optics is related\\n',\n 'to geometry, so another science is related to optics, namely the theory\\n',\n 'of the rainbow. Here knowledge of the fact is within the province\\n',\n 'of the natural philosopher, knowledge of the reasoned fact within\\n',\n 'that of the optician, either qua optician or qua mathematical optician.\\n',\n 'Many sciences not standing in this mutual relation enter into it at\\n',\n \"points; e.g. medicine and geometry: it is the physician's business\\n\",\n \"to know that circular wounds heal more slowly, the geometer's to know\\n\",\n 'the reason why. \\n',\n '\\n',\n 'Part 14\\n',\n '\\n',\n 'Of all the figures the most scientific is the first. Thus, it is the\\n',\n 'vehicle of the demonstrations of all the mathematical sciences, such\\n',\n 'as arithmetic, geometry, and optics, and practically all of all sciences\\n',\n 'that investigate causes: for the syllogism of the reasoned fact is\\n',\n 'either exclusively or generally speaking and in most cases in this\\n',\n 'figure-a second proof that this figure is the most scientific; for\\n',\n 'grasp of a reasoned conclusion is the primary condition of knowledge.\\n',\n 'Thirdly, the first is the only figure which enables us to pursue knowledge\\n',\n 'of the essence of a thing. In the second figure no affirmative conclusion\\n',\n \"is possible, and knowledge of a thing's essence must be affirmative;\\n\",\n 'while in the third figure the conclusion can be affirmative, but cannot\\n',\n 'be universal, and essence must have a universal character: e.g. man\\n',\n 'is not two-footed animal in any qualified sense, but universally.\\n',\n 'Finally, the first figure has no need of the others, while it is by\\n',\n 'means of the first that the other two figures are developed, and have\\n',\n 'their intervals closepacked until immediate premisses are reached.\\n',\n '\\n',\n 'Clearly, therefore, the first figure is the primary condition of knowledge.\\n',\n '\\n',\n 'Part 15\\n',\n '\\n',\n 'Just as an attribute A may (as we saw) be atomically connected with\\n',\n \"a subject B, so its disconnexion may be atomic. I call 'atomic' connexions\\n\",\n 'or disconnexions which involve no intermediate term; since in that\\n',\n 'case the connexion or disconnexion will not be mediated by something\\n',\n 'other than the terms themselves. It follows that if either A or B,\\n',\n 'or both A and B, have a genus, their disconnexion cannot be primary.\\n',\n 'Thus: let C be the genus of A. Then, if C is not the genus of B-for\\n',\n 'A may well have a genus which is not the genus of B-there will be\\n',\n \"a syllogism proving A's disconnexion from B thus: \\n\",\n '\\n',\n 'all A is C, no B is C, therefore no B is A. Or if it is B which has\\n',\n 'a genus D, we have \\n',\n '\\n',\n 'all B is D, no D is A, therefore no B is A, by syllogism; and the\\n',\n 'proof will be similar if both A and B have a genus. That the genus\\n',\n 'of A need not be the genus of B and vice versa, is shown by the existence\\n',\n 'of mutually exclusive coordinate series of predication. If no term\\n',\n 'in the series ACD...is predicable of any term in the series BEF...,and\\n',\n 'if G-a term in the former series-is the genus of A, clearly G will\\n',\n 'not be the genus of B; since, if it were, the series would not be\\n',\n 'mutually exclusive. So also if B has a genus, it will not be the genus\\n',\n 'of A. If, on the other hand, neither A nor B has a genus and A does\\n',\n 'not inhere in B, this disconnexion must be atomic. If there be a middle\\n',\n 'term, one or other of them is bound to have a genus, for the syllogism\\n',\n 'will be either in the first or the second figure. If it is in the\\n',\n 'first, B will have a genus-for the premiss containing it must be affirmative:\\n',\n 'if in the second, either A or B indifferently, since syllogism is\\n',\n 'possible if either is contained in a negative premiss, but not if\\n',\n 'both premisses are negative. \\n',\n '\\n',\n 'Hence it is clear that one thing may be atomically disconnected from\\n',\n 'another, and we have stated when and how this is possible.\\n',\n '\\n',\n 'Part 16\\n',\n '\\n',\n 'Ignorance-defined not as the negation of knowledge but as a positive\\n',\n 'state of mind-is error produced by inference. \\n',\n '\\n',\n \"(1) Let us first consider propositions asserting a predicate's immediate\\n\",\n 'connexion with or disconnexion from a subject. Here, it is true, positive\\n',\n 'error may befall one in alternative ways; for it may arise where one\\n',\n \"directly believes a connexion or disconnexion as well as where one's\\n\",\n 'belief is acquired by inference. The error, however, that consists\\n',\n 'in a direct belief is without complication; but the error resulting\\n',\n 'from inference-which here concerns us-takes many forms. Thus, let\\n',\n 'A be atomically disconnected from all B: then the conclusion inferred\\n',\n 'through a middle term C, that all B is A, will be a case of error\\n',\n 'produced by syllogism. Now, two cases are possible. Either (a) both\\n',\n 'premisses, or (b) one premiss only, may be false. (a) If neither A\\n',\n 'is an attribute of any C nor C of any B, whereas the contrary was\\n',\n 'posited in both cases, both premisses will be false. (C may quite\\n',\n 'well be so related to A and B that C is neither subordinate to A nor\\n',\n 'a universal attribute of B: for B, since A was said to be primarily\\n',\n 'disconnected from B, cannot have a genus, and A need not necessarily\\n',\n 'be a universal attribute of all things. Consequently both premisses\\n',\n 'may be false.) On the other hand, (b) one of the premisses may be\\n',\n ...]"
     },
     "execution_count": 6,
     "metadata": {},
     "output_type": "execute_result"
    }
   ],
   "source": [
    "#store each line in a string, put all strings into a list:\n",
    "with open('data/posterior_analytics.txt', 'r') as f:\n",
    "    lines = f.readlines()\n",
    "print(type(lines))\n",
    "print(len(lines))\n",
    "print(lines[0])\n",
    "lines"
   ]
  },
  {
   "cell_type": "markdown",
   "execution_count": null,
   "metadata": {},
   "outputs": [],
   "source": [
    "## Creating SQL-databases and doing queries on them\n",
    "\n",
    "1. Simply import `sqlite3`.\n",
    "2. If database already exists, then connecting to it works with `sqlite3.connect`, otherwise it is created. \n",
    "3. `con.cursor()` will add an executable object to the database, enabling queries.\n",
    "4. `execute` will output a query on the database, but it is not written into the database yet (`commit` is needed)\n",
    "\n"
   ]
  },
  {
   "cell_type": "code",
   "execution_count": 23,
   "metadata": {},
   "outputs": [],
   "source": [
    "import sqlite3\n",
    "\n",
    "#Create new database, if doesn't exist already:\n",
    "con = sqlite3.connect('example.db')\n",
    "c = con.cursor()\n",
    "\n",
    "#Create a new empty table named \"family\" in the database:\n",
    "#a column named \"name\" of strings and a column named \"age\" of real numbers:\n",
    "c.execute('CREATE TABLE family (name text, age real)')\n",
    "\n",
    "#This is the data that should go into the table:\n",
    "data = [('Lucas', 25), ('Miri', 24), ('Jos', 19), ('Bon', 22), ('someone', 25)]"
   ]
  },
  {
   "cell_type": "markdown",
   "execution_count": null,
   "metadata": {},
   "outputs": [],
   "source": [
    "5. Putting the data into the database, tuple for tuple, works with `executemany` (for single values an `execute` is needed). Using a placeholder (?,?) for the tuples will automatically fill in the corresponding data and doing it this way prevents SQL-injection-attacks.\n",
    "6. a `commit` is needed to actually overwrite the database with the `execute`-changes."
   ]
  },
  {
   "cell_type": "code",
   "execution_count": 24,
   "metadata": {},
   "outputs": [],
   "source": [
    "c.executemany('INSERT INTO family VALUES (?,?)', data)\n",
    "con.commit()"
   ]
  },
  {
   "cell_type": "markdown",
   "execution_count": null,
   "metadata": {},
   "outputs": [],
   "source": [
    "7. Now the database can be used to `execute` any SQL-query. `fetchall` doesn't overwrite the database, but simply outputs a certain query."
   ]
  },
  {
   "cell_type": "code",
   "execution_count": 25,
   "metadata": {},
   "outputs": [
    {
     "name": "stdout",
     "output_type": "stream",
     "text": "('Lucas', 25.0)\n[('someone', 25.0), ('Miri', 24.0), ('Bon', 22.0), ('Jos', 19.0)]\n[('Jos', 19.0), ('Bon', 22.0), ('Miri', 24.0), ('Lucas', 25.0), ('someone', 25.0)]\n[('Lucas', 25.0), ('someone', 25.0)]\n"
    }
   ],
   "source": [
    "c.execute('SELECT name, age FROM family ORDER BY age DESC')\n",
    "#fetchone only has a single output:\n",
    "print(c.fetchone())\n",
    "#fetchall outputs all values of the command:\n",
    "print(c.fetchall())\n",
    "c.execute('SELECT name, age FROM family ORDER BY age ASC')\n",
    "print(c.fetchall())\n",
    "\n",
    "#output all values with age=25:\n",
    "c.execute('SELECT * FROM family WHERE age=?',(25,))\n",
    "print(c.fetchall())"
   ]
  },
  {
   "cell_type": "markdown",
   "execution_count": null,
   "metadata": {},
   "outputs": [],
   "source": [
    "8. Once all execute commands are done, we must close the database."
   ]
  },
  {
   "cell_type": "code",
   "execution_count": 26,
   "metadata": {},
   "outputs": [],
   "source": [
    "con.close()"
   ]
  }
 ]
}