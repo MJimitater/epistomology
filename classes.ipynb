{
 "metadata": {
  "language_info": {
   "codemirror_mode": {
    "name": "ipython",
    "version": 3
   },
   "file_extension": ".py",
   "mimetype": "text/x-python",
   "name": "python",
   "nbconvert_exporter": "python",
   "pygments_lexer": "ipython3",
   "version": "3.8.1-final"
  },
  "orig_nbformat": 2,
  "kernelspec": {
   "name": "python37764bitenvaiconda319b66fa86a94f0e8ad994fead5cbf9a",
   "display_name": "Python 3.7.7 64-bit ('env_ai': conda)",
   "language": "python"
  }
 },
 "nbformat": 4,
 "nbformat_minor": 2,
 "cells": [
  {
   "cell_type": "code",
   "execution_count": 35,
   "metadata": {},
   "outputs": [],
   "source": [
    "class Car():\n",
    "    #Initialize class:\n",
    "    #-> needs \"self\" to refer it to the object itself:\n",
    "    def __init__(self):\n",
    "        print(\"This is a car\")\n",
    "    \n",
    "    #Class methode:\n",
    "    def driving(self):\n",
    "        print(\"you are driving\")"
   ]
  },
  {
   "cell_type": "code",
   "execution_count": 36,
   "metadata": {},
   "outputs": [
    {
     "output_type": "stream",
     "name": "stdout",
     "text": [
      "This is a car\nyou are driving\n"
     ]
    }
   ],
   "source": [
    "b = Car()\n",
    "b.driving()"
   ]
  },
  {
   "cell_type": "code",
   "execution_count": 39,
   "metadata": {},
   "outputs": [],
   "source": [
    "class Mercedes(Car):\n",
    "    def __init__(self):\n",
    "        #Get initialization of parent class (whatever the parent is):\n",
    "        #-> self not needed here\n",
    "        super().__init__()\n",
    "        print(\"This is a Mercedes\")\n",
    "\n",
    "    def showoff_star(self):\n",
    "        print(\"The Mercedes star is shown off\")\n"
   ]
  },
  {
   "cell_type": "code",
   "execution_count": 40,
   "metadata": {},
   "outputs": [
    {
     "output_type": "stream",
     "name": "stdout",
     "text": [
      "This is a car\nThis is a Mercedes\nyou are driving\nThe Mercedes star is shown off\n"
     ]
    }
   ],
   "source": [
    "#Initialize child class:\n",
    "merc = Mercedes()\n",
    "\n",
    "#Child class inherits methods from parent class:\n",
    "merc.driving()\n",
    "\n",
    "#Child class can have unique own methods:\n",
    "merc.showoff_star()"
   ]
  },
  {
   "cell_type": "code",
   "execution_count": null,
   "metadata": {},
   "outputs": [],
   "source": []
  }
 ]
}