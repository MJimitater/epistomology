{
 "cells": [
  {
   "cell_type": "markdown",
   "metadata": {},
   "source": [
    "## Creating and accessing lists\n",
    "\n",
    "Lists are basically arrays.\n",
    "\n",
    "Lists are `ordered` and its elements are not necessarily unique.\n",
    "\n",
    "2 lists are the same, if they have exactly the same amount of elements in the exact same order."
   ]
  },
  {
   "cell_type": "code",
   "execution_count": 2,
   "metadata": {},
   "outputs": [
    {
     "output_type": "stream",
     "name": "stdout",
     "text": "[2, 3, 'hi']\n2\n3\nhi\n"
    }
   ],
   "source": [
    "#Creating list:\n",
    "\n",
    "l = [2,3,'hi']\n",
    "print(l)\n",
    "\n",
    "#Accessing items:\n",
    "print(l[0])\n",
    "print(l[1])\n",
    "#Access last item:\n",
    "print(l[-1])"
   ]
  },
  {
   "cell_type": "markdown",
   "metadata": {},
   "source": [
    "## Adding elements to a list"
   ]
  },
  {
   "cell_type": "code",
   "execution_count": 3,
   "metadata": {},
   "outputs": [
    {
     "output_type": "stream",
     "name": "stdout",
     "text": "[2, 3, 'hi', 'another_item', 'another_item']\n[2, 3, 'insert_item', 'hi', 'another_item', 'another_item']\n"
    }
   ],
   "source": [
    "#add item at the end:\n",
    "l.append('another_item')\n",
    "l.append('another_item')\n",
    "print(l)\n",
    "\n",
    "#add item at a certain index:\n",
    "l.insert(2, 'insert_item')\n",
    "print(l)"
   ]
  },
  {
   "cell_type": "markdown",
   "metadata": {},
   "source": [
    "## Deleting elements from a list"
   ]
  },
  {
   "cell_type": "code",
   "execution_count": 4,
   "metadata": {},
   "outputs": [
    {
     "output_type": "stream",
     "name": "stdout",
     "text": "[2, 3, 'insert_item', 'hi', 'another_item']\n[2, 3, 'hi', 'another_item']\n"
    },
    {
     "output_type": "execute_result",
     "data": {
      "text/plain": "[2, 3, 'hi']"
     },
     "metadata": {},
     "execution_count": 4
    }
   ],
   "source": [
    "#Remove the first encounter of 'another_item' of the list, even though there are multiple 'another_item's:\n",
    "#throws error, if 'another_item' is not in list\n",
    "l.remove('another_item')\n",
    "print(l)\n",
    "\n",
    "#Remove an element at a certain index:\n",
    "l.pop(2)\n",
    "print(l)\n",
    "\n",
    "#Remove (and return) the last element of the list:\n",
    "l.pop()\n",
    "l"
   ]
  },
  {
   "cell_type": "markdown",
   "metadata": {},
   "source": [
    "## Looping over lists"
   ]
  },
  {
   "cell_type": "code",
   "execution_count": 5,
   "metadata": {},
   "outputs": [
    {
     "output_type": "stream",
     "name": "stdout",
     "text": "2\n3\nhi\n"
    }
   ],
   "source": [
    "for elem in l:\n",
    "    print(elem)"
   ]
  },
  {
   "cell_type": "markdown",
   "metadata": {},
   "source": [
    "## Sorting lists\n",
    "\n",
    "This algorithm sorts lists from small to large. It loops over the list, always taking the minimum element in the remainding part and swapping it to the front."
   ]
  },
  {
   "cell_type": "code",
   "execution_count": 6,
   "metadata": {},
   "outputs": [
    {
     "output_type": "stream",
     "name": "stdout",
     "text": "Anfangsliste:\n[1, -2, 6, -5]\naktualisierte Liste:\n[-5, -2, 6, 1]\naktualisierte Liste:\n[-5, -2, 1, 6]\n"
    }
   ],
   "source": [
    "Liste = [1,-2, 6, -5]\n",
    "\n",
    "print(\"Anfangsliste:\")\n",
    "print(Liste)\n",
    "\n",
    "mini_j = 0\n",
    "\n",
    "for i in range(len(Liste)):\n",
    "    #Setze flag=false, d.h. wir gehen davon aus, es gibt keine kleineren Elemente im Rest der Liste:\n",
    "    flag = False\n",
    "    #Setze das aktuelle Minimum auf das i-te Element der Liste:\n",
    "    mini = Liste[i]\n",
    "    #Gehe ab dem i-ten Element den Rest der Liste durch:\n",
    "    for j in range(i,len(Liste)):\n",
    "        #Überprüfe, ob irgendein Element im Rest der Liste kleiner ist:\n",
    "        if (mini > Liste[j]):\n",
    "            #wenn ja, ist das das neue Mini\n",
    "            mini = Liste[j]\n",
    "            #Speicher auch den Listenindex (zum Vertauschen später)\n",
    "            mini_j = j\n",
    "            #Merke, dass getauscht werden darf\n",
    "            flag = True\n",
    "            #gehe immer weiter Rest der Liste durch, um zu gucken, ob nicht ein Element NOCH kleiner ist\n",
    "            #am Ende dieser inneren For-Schleife wird mini das kleinste Element im Rest der Liste sein..\n",
    "            #..und mini_j sein Index\n",
    "    #Wenn überhaupt ein kleineres Element exisiter (flag=True), dann dürfen wir sie vertauschen:\n",
    "    if (flag == True):\n",
    "        tmp = Liste[i]\n",
    "        #anhand des mini_j weiß ich wo dieses kleinste Element war, und kann jetzt tauschen:\n",
    "        Liste[i] = Liste[mini_j]\n",
    "        Liste[mini_j] = tmp\n",
    "        #so sieht jetzt aktuelle Liste aus:\n",
    "        print(\"aktualisierte Liste:\")\n",
    "        print(Liste)\n",
    "\n"
   ]
  },
  {
   "cell_type": "markdown",
   "metadata": {},
   "source": [
    "## Defining \"mathematische Folgen\" in list form:"
   ]
  },
  {
   "cell_type": "code",
   "execution_count": 7,
   "metadata": {},
   "outputs": [
    {
     "output_type": "stream",
     "name": "stdout",
     "text": "[1, 4, 9, 16, 25, 36, 49, 64, 81]\n"
    }
   ],
   "source": [
    "#Neat way for creating a mathematical sequence:\n",
    "#Here: define the first 10 sequence elements of x^2 in a list:\n",
    "x = [x**2 for x in range(1,10)]\n",
    "print(x)"
   ]
  },
  {
   "cell_type": "markdown",
   "metadata": {},
   "source": [
    "## Creating dictionaries"
   ]
  },
  {
   "cell_type": "code",
   "execution_count": 8,
   "metadata": {},
   "outputs": [
    {
     "output_type": "stream",
     "name": "stdout",
     "text": "{'Name': 'Lucas', 'Age': 25, 'Solinger': True}\n"
    }
   ],
   "source": [
    "#Dictionary:\n",
    "#Assigning values ('Lucas', 25, True) to keys (Name, Age, Solinger):\n",
    "d = {'Name':'Lucas', 'Age':25, 'Solinger':True}\n",
    "print(d)\n",
    "\n",
    "#In order to create a default dictionary, without "
   ]
  },
  {
   "cell_type": "markdown",
   "metadata": {},
   "source": [
    "## Adding to dictionary"
   ]
  },
  {
   "cell_type": "code",
   "execution_count": 9,
   "metadata": {},
   "outputs": [
    {
     "output_type": "stream",
     "name": "stdout",
     "text": "{'Name': 'Lucas', 'Age': 25, 'Solinger': True, 'Hobby': 'Judo'}\n"
    }
   ],
   "source": [
    "#If a Hobby already exists, it will be overwritten with 'Judo', otherwise this whole column is newly created:\n",
    "d['Hobby']='Judo'\n",
    "print(d)"
   ]
  },
  {
   "cell_type": "code",
   "execution_count": 10,
   "metadata": {},
   "outputs": [
    {
     "output_type": "stream",
     "name": "stdout",
     "text": "True\nFalse\n"
    }
   ],
   "source": [
    "#Checking, whether a certain key is in a dictionary:\n",
    "print('Name' in d)\n",
    "print('Male' in d)"
   ]
  },
  {
   "cell_type": "markdown",
   "metadata": {},
   "source": [
    "## Looping over dictionary\n",
    "\n",
    "`items()` returns 2 parameters, the key and the value of the dictionary."
   ]
  },
  {
   "cell_type": "code",
   "execution_count": 11,
   "metadata": {},
   "outputs": [
    {
     "output_type": "stream",
     "name": "stdout",
     "text": "Key Name has value Lucas\nKey Age has value 25\nKey Solinger has value True\nKey Hobby has value Judo\n"
    }
   ],
   "source": [
    "for key,value in d.items():\n",
    "    print('Key {0} has value {1}'.format(key,value))"
   ]
  },
  {
   "cell_type": "markdown",
   "metadata": {},
   "source": [
    "`keys()` outputs all keys of a dictionary."
   ]
  },
  {
   "cell_type": "code",
   "execution_count": 29,
   "metadata": {},
   "outputs": [
    {
     "output_type": "execute_result",
     "data": {
      "text/plain": "dict_keys(['Name', 'Age', 'Solinger', 'Hobby'])"
     },
     "metadata": {},
     "execution_count": 29
    }
   ],
   "source": [
    "d.keys()"
   ]
  },
  {
   "cell_type": "markdown",
   "metadata": {},
   "source": [
    "## Default dictionary (Performance Container)\n",
    "\n",
    "Using default dictionaries has a 20x speedup!"
   ]
  },
  {
   "cell_type": "code",
   "execution_count": 13,
   "metadata": {},
   "outputs": [
    {
     "output_type": "error",
     "ename": "KeyError",
     "evalue": "'I'",
     "traceback": [
      "\u001b[0;31m---------------------------------------------------------------------------\u001b[0m",
      "\u001b[0;31mKeyError\u001b[0m                                  Traceback (most recent call last)",
      "\u001b[0;32m<ipython-input-13-75671a09e968>\u001b[0m in \u001b[0;36m<module>\u001b[0;34m\u001b[0m\n\u001b[1;32m      5\u001b[0m \u001b[0;34m\u001b[0m\u001b[0m\n\u001b[1;32m      6\u001b[0m \u001b[0;32mfor\u001b[0m \u001b[0mc\u001b[0m \u001b[0;32min\u001b[0m \u001b[0mstring\u001b[0m\u001b[0;34m:\u001b[0m\u001b[0;34m\u001b[0m\u001b[0;34m\u001b[0m\u001b[0m\n\u001b[0;32m----> 7\u001b[0;31m     \u001b[0mcounts\u001b[0m\u001b[0;34m[\u001b[0m\u001b[0mc\u001b[0m\u001b[0;34m]\u001b[0m \u001b[0;34m+=\u001b[0m \u001b[0;36m1\u001b[0m\u001b[0;34m\u001b[0m\u001b[0;34m\u001b[0m\u001b[0m\n\u001b[0m\u001b[1;32m      8\u001b[0m \u001b[0mprint\u001b[0m\u001b[0;34m(\u001b[0m\u001b[0mcounts\u001b[0m\u001b[0;34m)\u001b[0m\u001b[0;34m\u001b[0m\u001b[0;34m\u001b[0m\u001b[0m\n\u001b[1;32m      9\u001b[0m \u001b[0;34m\u001b[0m\u001b[0m\n",
      "\u001b[0;31mKeyError\u001b[0m: 'I'"
     ]
    }
   ],
   "source": [
    "#If we want to count the characters of a string, then counts[c] += 1 won't work since the dictionary isn't initialised\n",
    "\n",
    "string = 'Introduction to Data Science'\n",
    "counts = {}\n",
    "\n",
    "for c in string:\n",
    "    counts[c] += 1\n",
    "print(counts)\n",
    "\n",
    "#This is meant to throw an error!"
   ]
  },
  {
   "cell_type": "code",
   "execution_count": 14,
   "metadata": {},
   "outputs": [
    {
     "output_type": "stream",
     "name": "stdout",
     "text": "defaultdict(<function <lambda> at 0x7ff2c24d28b0>, {'I': 1, 'n': 3, 't': 4, 'r': 1, 'o': 3, 'd': 1, 'u': 1, 'c': 3, 'i': 2, ' ': 3, 'D': 1, 'a': 2, 'S': 1, 'e': 2})\n"
    }
   ],
   "source": [
    "#We can use a default dictionary to solve this:\n",
    "\n",
    "from collections import defaultdict\n",
    "\n",
    "counts_defaultdict = defaultdict(lambda: 0)\n",
    "\n",
    "for c in string:\n",
    "    counts_defaultdict[c] += 1\n",
    "print(counts_defaultdict)\n",
    "\n"
   ]
  },
  {
   "cell_type": "markdown",
   "metadata": {},
   "source": [
    "A problem with the default dictionry is if a key is not assigned a value, then the key is stored with the value 0."
   ]
  },
  {
   "cell_type": "code",
   "execution_count": 15,
   "metadata": {},
   "outputs": [
    {
     "output_type": "stream",
     "name": "stdout",
     "text": "defaultdict(<function <lambda> at 0x7ff2c24d28b0>, {'I': 1, 'n': 3, 't': 4, 'r': 1, 'o': 3, 'd': 1, 'u': 1, 'c': 3, 'i': 2, ' ': 3, 'D': 1, 'a': 2, 'S': 1, 'e': 2})\ndefaultdict(<function <lambda> at 0x7ff2c24d28b0>, {'I': 1, 'n': 3, 't': 4, 'r': 1, 'o': 3, 'd': 1, 'u': 1, 'c': 3, 'i': 2, ' ': 3, 'D': 1, 'a': 2, 'S': 1, 'e': 2, 'z': 0})\n"
    }
   ],
   "source": [
    "print(counts_defaultdict)\n",
    "\n",
    "counts_defaultdict['z']\n",
    "print(counts_defaultdict)"
   ]
  },
  {
   "cell_type": "markdown",
   "metadata": {},
   "source": [
    "We can use the `Counter` class to solve this.\n",
    "\n",
    "## Counter"
   ]
  },
  {
   "cell_type": "code",
   "execution_count": 16,
   "metadata": {},
   "outputs": [
    {
     "output_type": "stream",
     "name": "stdout",
     "text": "Counter({'t': 4, 'n': 3, 'o': 3, 'c': 3, ' ': 3, 'i': 2, 'a': 2, 'e': 2, 'I': 1, 'r': 1, 'd': 1, 'u': 1, 'D': 1, 'S': 1})\nCounter({'t': 4, 'n': 3, 'o': 3, 'c': 3, ' ': 3, 'i': 2, 'a': 2, 'e': 2, 'I': 1, 'r': 1, 'd': 1, 'u': 1, 'D': 1, 'S': 1})\n"
    }
   ],
   "source": [
    "from collections import Counter\n",
    "\n",
    "counts = Counter(string)\n",
    "print(counts)\n",
    "\n",
    "counts['z']\n",
    "print(counts)"
   ]
  },
  {
   "cell_type": "markdown",
   "metadata": {},
   "source": [
    "The `Counter` class comes with other useful functions, such as returning the first $n$ largest values."
   ]
  },
  {
   "cell_type": "code",
   "execution_count": 17,
   "metadata": {},
   "outputs": [
    {
     "output_type": "execute_result",
     "data": {
      "text/plain": "[('t', 4), ('n', 3), ('o', 3), ('c', 3), (' ', 3)]"
     },
     "metadata": {},
     "execution_count": 17
    }
   ],
   "source": [
    "#returns the 5 largest values:\n",
    "counts.most_common(5)"
   ]
  },
  {
   "cell_type": "markdown",
   "metadata": {},
   "source": [
    "## Creating Sets\n",
    "\n",
    "Lists are `ordered` and its elements are not necessarily unique.\n",
    "\n",
    "2 lists are the same, if they have exactly the same amount of elements in the exact same order.\n",
    "\n",
    "We can use sets to have unordered and unique elements.\n",
    "\n",
    "Sets can be created by the `set()` function."
   ]
  },
  {
   "cell_type": "code",
   "execution_count": 18,
   "metadata": {},
   "outputs": [
    {
     "output_type": "execute_result",
     "data": {
      "text/plain": "{1}"
     },
     "metadata": {},
     "execution_count": 18
    }
   ],
   "source": [
    "s = set()\n",
    "s.add(1)\n",
    "s.add(1)\n",
    "s"
   ]
  },
  {
   "cell_type": "markdown",
   "metadata": {},
   "source": [
    "## Creating Tuples\n",
    "\n",
    "Tuples are ordered and its elements are not unique (like a list), but it is immutable! Tuples cannot be changed, since they are poured in concrete.\n",
    "\n",
    "Tuples are created by round brackets `()`."
   ]
  },
  {
   "cell_type": "code",
   "execution_count": 19,
   "metadata": {},
   "outputs": [
    {
     "output_type": "execute_result",
     "data": {
      "text/plain": "(2, 3, 'hi', 2, 794)"
     },
     "metadata": {},
     "execution_count": 19
    }
   ],
   "source": [
    "tup = (2,3,'hi',2,794)\n",
    "tup"
   ]
  },
  {
   "cell_type": "markdown",
   "metadata": {},
   "source": [
    "### Advantages\n",
    "- immutable\n",
    "- 4x faster than lists"
   ]
  },
  {
   "cell_type": "code",
   "execution_count": 20,
   "metadata": {},
   "outputs": [
    {
     "output_type": "stream",
     "name": "stdout",
     "text": "12.2 ns ± 1.32 ns per loop (mean ± std. dev. of 10 runs, 10000000 loops each)\n"
    }
   ],
   "source": [
    "%%timeit -n 10000000 -r 10\n",
    "\n",
    "#time for creating tuple:\n",
    "\n",
    "t=(1,2,3,4,4)"
   ]
  },
  {
   "cell_type": "code",
   "execution_count": 21,
   "metadata": {},
   "outputs": [
    {
     "output_type": "stream",
     "name": "stdout",
     "text": "49.4 ns ± 0.598 ns per loop (mean ± std. dev. of 10 runs, 10000000 loops each)\n"
    }
   ],
   "source": [
    "%%timeit -n 10000000 -r 10\n",
    "\n",
    "#time for creating lists:\n",
    "\n",
    "t=[1,2,3,4,4]"
   ]
  }
 ],
 "metadata": {
  "language_info": {
   "name": "python",
   "codemirror_mode": {
    "name": "ipython",
    "version": 3
   },
   "version": "3.8.2-final"
  },
  "orig_nbformat": 2,
  "file_extension": ".py",
  "mimetype": "text/x-python",
  "name": "python",
  "npconvert_exporter": "python",
  "pygments_lexer": "ipython3",
  "version": 3,
  "kernelspec": {
   "name": "python38264bit0d0d411bb8d84c52ba204b655b6ae5a5",
   "display_name": "Python 3.8.2 64-bit"
  }
 },
 "nbformat": 4,
 "nbformat_minor": 2
}