{
 "cells": [
  {
   "cell_type": "markdown",
   "metadata": {},
   "source": [
    "## Using docstrings to write function documentation"
   ]
  },
  {
   "cell_type": "code",
   "execution_count": 1,
   "metadata": {},
   "outputs": [
    {
     "name": "stdout",
     "output_type": "stream",
     "text": "Help on function some_function in module __main__:\n\nsome_function(x, y=42, z='message')\n    Outputs several printable variables using the print method.\n    \n    By default a space is used to separate the individual values. \n    \n    Parameters\n    ----------\n    x : int\n        The first parameter.\n    y : int\n        The second parameter.\n    z : str\n        The third parameter\n    \n    Returns\n    -------\n    int\n        Sum of x and y\n\n"
    }
   ],
   "source": [
    "def some_function(x, y=42, z='message'):\n",
    "    \"\"\"Outputs several printable variables using the print method.\n",
    "    \n",
    "    By default a space is used to separate the individual values. \n",
    "    \n",
    "    Parameters\n",
    "    ----------\n",
    "    x : int\n",
    "        The first parameter.\n",
    "    y : int\n",
    "        The second parameter.\n",
    "    z : str\n",
    "        The third parameter\n",
    "\n",
    "    Returns\n",
    "    -------\n",
    "    int\n",
    "        Sum of x and y\n",
    "    \n",
    "     \"\"\"\n",
    "    print(\"Parameter x =\", x)\n",
    "    print(\"Parameter y =\", y)\n",
    "    print(\"Parameter z =\", z)\n",
    "    return x+y\n",
    "\n",
    "\n",
    "#using help(), we can see the documentation of the function:\n",
    "help(some_function)"
   ]
  },
  {
   "cell_type": "markdown",
   "metadata": {},
   "source": [
    "## lambda expressions\n",
    "\n",
    "Sometimes we want to pass to a function the output of another function.\n",
    "Instead of defining a separate function for this, we can use a `lambda` expression, which is an anonymous function.\n",
    "\n",
    "generic form:\n",
    "\n",
    "`lambda input_variables : output`\n",
    "\n"
   ]
  },
  {
   "cell_type": "code",
   "execution_count": 5,
   "metadata": {},
   "outputs": [
    {
     "data": {
      "text/plain": "3"
     },
     "execution_count": 5,
     "metadata": {},
     "output_type": "execute_result"
    }
   ],
   "source": [
    "#lambda takes x as input and returns x+1;\n",
    "#apply this function on 2:\n",
    "\n",
    "(lambda x : x+1)(2)"
   ]
  },
  {
   "cell_type": "markdown",
   "metadata": {},
   "source": [
    "`lambda` expressions can be used for nested functions (verkettete Funktionen)"
   ]
  },
  {
   "cell_type": "code",
   "execution_count": 10,
   "metadata": {},
   "outputs": [
    {
     "data": {
      "text/plain": "6"
     },
     "execution_count": 10,
     "metadata": {},
     "output_type": "execute_result"
    }
   ],
   "source": [
    "#func is a lambda expression, taking argument x and y, where y seems to be a function\n",
    "func = lambda x, y: x + y(x)\n",
    "#calling this function with x=2 and y(x)=x^2:\n",
    "func(2, lambda x: x * x)"
   ]
  },
  {
   "cell_type": "markdown",
   "metadata": {},
   "source": [
    "## Print function\n",
    "\n",
    "Using `{}` and `format()` in the print function can be used to print variables."
   ]
  },
  {
   "cell_type": "code",
   "execution_count": 2,
   "metadata": {},
   "outputs": [
    {
     "name": "stdout",
     "output_type": "stream",
     "text": "i is equals 3 and k is equals 2\n"
    }
   ],
   "source": [
    "i=3\n",
    "k=2\n",
    "\n",
    "print('i is equals {0} and k is equals {1}'. format(i,k))"
   ]
  },
  {
   "cell_type": "markdown",
   "metadata": {},
   "source": [
    "## Cell magic\n",
    "\n",
    "We can use `%%command` at the beginning of a cell to execute the bash-`command` for that cell only.\n",
    "\n",
    "We can use `%command` at the beginning of a line to execute the bash-`command` for that line only.\n",
    "\n",
    "e.g. `%%timeit -n 1000000 -r 10` will time the execution of the cell in the following way:\n",
    "execute the cell 1000000 times, repeat this 10 times and for each repeat take the average value."
   ]
  },
  {
   "cell_type": "code",
   "execution_count": 8,
   "metadata": {},
   "outputs": [
    {
     "name": "stdout",
     "output_type": "stream",
     "text": "11.1 ns ± 0.777 ns per loop (mean ± std. dev. of 10 runs, 10000000 loops each)\n"
    }
   ],
   "source": [
    "%%timeit -n 10000000 -r 10\n",
    "\n",
    "#measuring how long it takes to declare an integer:\n",
    "\n",
    "t = 3"
   ]
  },
  {
   "cell_type": "markdown",
   "metadata": {},
   "source": [
    "## If - else\n",
    "\n",
    "Keywords include: `and`, `or` "
   ]
  },
  {
   "cell_type": "code",
   "execution_count": 6,
   "metadata": {},
   "outputs": [
    {
     "name": "stdout",
     "output_type": "stream",
     "text": "no\n"
    }
   ],
   "source": [
    "a=3\n",
    "b=3\n",
    "if (a==2 or b>4):\n",
    "    print('yes')\n",
    "else:\n",
    "    print('no')"
   ]
  },
  {
   "cell_type": "markdown",
   "metadata": {},
   "source": [
    "## For loop\n",
    "\n",
    "Keywords include: `range()`.\n",
    "\n",
    "Note: `range(a)` is excluding `a`."
   ]
  },
  {
   "cell_type": "code",
   "execution_count": 9,
   "metadata": {},
   "outputs": [
    {
     "name": "stdout",
     "output_type": "stream",
     "text": "0\n1\n"
    }
   ],
   "source": [
    "for i in range(2):\n",
    "    print(i)"
   ]
  },
  {
   "cell_type": "markdown",
   "metadata": {},
   "source": [
    "## Passing more arguments to a function, than defined by the function\n",
    "\n",
    "The argument must take the symbol `*`, in order to take more arguments than is defined by the function.\n",
    "\n",
    "By convention, `*args` is used. "
   ]
  },
  {
   "cell_type": "code",
   "execution_count": 1,
   "metadata": {},
   "outputs": [
    {
     "output_type": "stream",
     "name": "stdout",
     "text": "hello\nmy\nname\nis\nluc\n"
    }
   ],
   "source": [
    "#This will output all input arguments consecutively:\n",
    "\n",
    "def small_function(*args):\n",
    "    for arg in args:\n",
    "        print(arg)\n",
    "\n",
    "\n",
    "small_function('hello','my','name','is','luc')"
   ]
  },
  {
   "cell_type": "markdown",
   "metadata": {},
   "source": [
    "## Passing a dictionary to a function\n",
    "\n",
    "The argument must take the symbol `**`, in order to allow a dictionary to be passed.\n",
    "\n",
    "By convention, `**kwargs` is used \n",
    "\n",
    "$\\textbf{kw}$args stands for $\\textbf{k}$ey$\\textbf{w}$orded$\\textbf{arg}$uments (meaning dictionaries)"
   ]
  },
  {
   "cell_type": "code",
   "execution_count": 2,
   "metadata": {},
   "outputs": [
    {
     "output_type": "stream",
     "name": "stdout",
     "text": "name luc\nage 18\n"
    }
   ],
   "source": [
    "\n",
    "def small_function(**kwargs):\n",
    "    for key, value in kwargs.items():\n",
    "        print(key,value)\n",
    "\n",
    "\n",
    "small_function(name='luc', age='18')"
   ]
  }
 ],
 "metadata": {
  "language_info": {
   "name": "python",
   "codemirror_mode": {
    "name": "ipython",
    "version": 3
   },
   "version": "3.8.2-final"
  },
  "orig_nbformat": 2,
  "file_extension": ".py",
  "mimetype": "text/x-python",
  "name": "python",
  "npconvert_exporter": "python",
  "pygments_lexer": "ipython3",
  "version": 3,
  "kernelspec": {
   "name": "python38264bit0d0d411bb8d84c52ba204b655b6ae5a5",
   "display_name": "Python 3.8.2 64-bit"
  }
 },
 "nbformat": 4,
 "nbformat_minor": 2
}