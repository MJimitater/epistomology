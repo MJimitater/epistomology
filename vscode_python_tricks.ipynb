{
 "cells": [
  {
   "cell_type": "markdown",
   "metadata": {},
   "source": [
    "## Functions and docstrings\n",
    "\n",
    "No return is actually needed.\n",
    "\n",
    "Variables defined within functions are local, outside of functions are global."
   ]
  },
  {
   "cell_type": "code",
   "execution_count": 76,
   "metadata": {
    "tags": []
   },
   "outputs": [
    {
     "output_type": "stream",
     "name": "stdout",
     "text": "Help on function some_function in module __main__:\n\nsome_function(x, y=42, z='message')\n    Outputs several printable variables using the print method.\n    \n    By default a space is used to separate the individual values. \n    \n    Parameters\n    ----------\n    x : int\n        The first parameter.\n    y : int\n        The second parameter.\n    z : str\n        The third parameter\n    \n    Returns\n    -------\n    int\n        Sum of x and y\n\n"
    }
   ],
   "source": [
    "def some_function(x, y=42, z='message'):\n",
    "    \"\"\"Outputs several printable variables using the print method.\n",
    "    \n",
    "    By default a space is used to separate the individual values. \n",
    "    \n",
    "    Parameters\n",
    "    ----------\n",
    "    x : int\n",
    "        The first parameter.\n",
    "    y : int\n",
    "        The second parameter.\n",
    "    z : str\n",
    "        The third parameter\n",
    "\n",
    "    Returns\n",
    "    -------\n",
    "    int\n",
    "        Sum of x and y\n",
    "    \n",
    "     \"\"\"\n",
    "    print(\"Parameter x =\", x)\n",
    "    print(\"Parameter y =\", y)\n",
    "    print(\"Parameter z =\", z)\n",
    "    return x+y\n",
    "\n",
    "\n",
    "#using help(), we can see the documentation of the function:\n",
    "help(some_function)"
   ]
  },
  {
   "cell_type": "markdown",
   "metadata": {},
   "source": [
    "## lambda expressions\n",
    "\n",
    "Sometimes we want to pass to a function the output of another function.\n",
    "Instead of defining a separate function for this, we can use a `lambda` expression, which is an anonymous function.\n",
    "\n",
    "generic form:\n",
    "\n",
    "`lambda input_variables : output`\n",
    "\n"
   ]
  },
  {
   "cell_type": "code",
   "execution_count": 77,
   "metadata": {},
   "outputs": [
    {
     "output_type": "execute_result",
     "data": {
      "text/plain": "3"
     },
     "metadata": {},
     "execution_count": 77
    }
   ],
   "source": [
    "#lambda takes x as input and returns x+1;\n",
    "#apply this function on 2:\n",
    "\n",
    "(lambda x : x+1)(2)"
   ]
  },
  {
   "cell_type": "markdown",
   "metadata": {},
   "source": [
    "`lambda` expressions can be used for nested functions (verkettete Funktionen)"
   ]
  },
  {
   "cell_type": "code",
   "execution_count": 78,
   "metadata": {},
   "outputs": [
    {
     "output_type": "execute_result",
     "data": {
      "text/plain": "6"
     },
     "metadata": {},
     "execution_count": 78
    }
   ],
   "source": [
    "#func is a lambda expression, taking argument x and y, where y seems to be a function\n",
    "func = lambda x, y: x + y(x)\n",
    "#calling this function with x=2 and y(x)=x^2:\n",
    "func(2, lambda x: x * x)"
   ]
  },
  {
   "cell_type": "markdown",
   "metadata": {},
   "source": [
    "## Print function\n",
    "\n",
    "Using `{}` and `format()` in the print function can be used to print variables."
   ]
  },
  {
   "cell_type": "code",
   "execution_count": 79,
   "metadata": {
    "tags": []
   },
   "outputs": [
    {
     "output_type": "stream",
     "name": "stdout",
     "text": "i is equals 3 and k is equals 2\n"
    }
   ],
   "source": [
    "i=3\n",
    "k=2\n",
    "\n",
    "print('i is equals {0} and k is equals {1}'. format(i,k))"
   ]
  },
  {
   "cell_type": "markdown",
   "metadata": {},
   "source": [
    "## Cell magic\n",
    "\n",
    "We can use `%%command` at the beginning of a cell to execute the bash-`command` for that cell only.\n",
    "\n",
    "We can use `%command` at the beginning of a line to execute the bash-`command` for that line only.\n",
    "\n",
    "e.g. `%%timeit -n 1000000 -r 10` will time the execution of the cell in the following way:\n",
    "execute the cell 1000000 times, repeat this 10 times and for each repeat take the average value."
   ]
  },
  {
   "cell_type": "code",
   "execution_count": 80,
   "metadata": {
    "tags": []
   },
   "outputs": [
    {
     "output_type": "stream",
     "name": "stdout",
     "text": "11.8 ns ± 1.42 ns per loop (mean ± std. dev. of 10 runs, 10000000 loops each)\n"
    }
   ],
   "source": [
    "%%timeit -n 10000000 -r 10\n",
    "\n",
    "#measuring how long it takes to declare an integer:\n",
    "\n",
    "t = 3"
   ]
  },
  {
   "cell_type": "markdown",
   "metadata": {},
   "source": [
    "## If - else\n",
    "\n",
    "Keywords include: `and`, `or` "
   ]
  },
  {
   "cell_type": "code",
   "execution_count": 81,
   "metadata": {
    "tags": []
   },
   "outputs": [
    {
     "output_type": "stream",
     "name": "stdout",
     "text": "no\n"
    }
   ],
   "source": [
    "a=3\n",
    "b=3\n",
    "if (a==2 or b>4):\n",
    "    print('yes')\n",
    "else:\n",
    "    print('no')"
   ]
  },
  {
   "cell_type": "markdown",
   "metadata": {},
   "source": [
    "## For loop\n",
    "\n",
    "Keywords include: `range()`.\n",
    "\n",
    "Note: `range(a)` is excluding `a`."
   ]
  },
  {
   "cell_type": "code",
   "execution_count": 82,
   "metadata": {
    "tags": []
   },
   "outputs": [
    {
     "output_type": "stream",
     "name": "stdout",
     "text": "0\n1\n"
    }
   ],
   "source": [
    "for i in range(2):\n",
    "    print(i)"
   ]
  },
  {
   "cell_type": "markdown",
   "metadata": {},
   "source": [
    "## While - else loop"
   ]
  },
  {
   "cell_type": "code",
   "execution_count": 83,
   "metadata": {
    "tags": []
   },
   "outputs": [
    {
     "output_type": "stream",
     "name": "stdout",
     "text": "All entries are non-zero now!\n"
    }
   ],
   "source": [
    "import numpy as np\n",
    "\n",
    "k=1\n",
    "Ak = np.array( [[1,2,3],[0,0,1],[1,9,0]] )\n",
    "\n",
    "while Ak.min() == 0.0:\n",
    "        k = k+1\n",
    "        #...we keep calculating powers\n",
    "        Ak = np.linalg.matrix_power(Ak,k)\n",
    "else:\n",
    "        print('All entries are non-zero now!')"
   ]
  },
  {
   "cell_type": "markdown",
   "metadata": {},
   "source": [
    "## Passing more arguments to a function, than defined by the function\n",
    "\n",
    "The argument must take the symbol `*`, in order to take more arguments than is defined by the function.\n",
    "\n",
    "By convention, `*args` is used. "
   ]
  },
  {
   "cell_type": "code",
   "execution_count": 84,
   "metadata": {
    "tags": []
   },
   "outputs": [
    {
     "output_type": "stream",
     "name": "stdout",
     "text": "hello\nmy\nname\nis\nluc\n"
    }
   ],
   "source": [
    "#This will output all input arguments consecutively:\n",
    "\n",
    "def small_function(*args):\n",
    "    for arg in args:\n",
    "        print(arg)\n",
    "\n",
    "\n",
    "small_function('hello','my','name','is','luc')"
   ]
  },
  {
   "cell_type": "markdown",
   "metadata": {},
   "source": [
    "## Passing a dictionary to a function\n",
    "\n",
    "The argument must take the symbol `**`, in order to allow a dictionary to be passed.\n",
    "\n",
    "By convention, `**kwargs` is used \n",
    "\n",
    "$\\textbf{kw}$args stands for $\\textbf{k}$ey$\\textbf{w}$orded$\\textbf{arg}$uments (meaning dictionaries)"
   ]
  },
  {
   "cell_type": "code",
   "execution_count": 85,
   "metadata": {
    "tags": []
   },
   "outputs": [
    {
     "output_type": "stream",
     "name": "stdout",
     "text": "name luc\nage 18\n"
    }
   ],
   "source": [
    "\n",
    "def small_function(**kwargs):\n",
    "    for key, value in kwargs.items():\n",
    "        print(key,value)\n",
    "\n",
    "\n",
    "small_function(name='luc', age='18')"
   ]
  },
  {
   "cell_type": "markdown",
   "metadata": {},
   "source": [
    "## Deleting variables\n",
    "\n",
    "`del` deletes a variable"
   ]
  },
  {
   "cell_type": "code",
   "execution_count": 86,
   "metadata": {
    "tags": []
   },
   "outputs": [
    {
     "output_type": "stream",
     "name": "stdout",
     "text": "5\n"
    },
    {
     "output_type": "error",
     "ename": "NameError",
     "evalue": "name 'testvar' is not defined",
     "traceback": [
      "\u001b[0;31m---------------------------------------------------------------------------\u001b[0m",
      "\u001b[0;31mNameError\u001b[0m                                 Traceback (most recent call last)",
      "\u001b[0;32m<ipython-input-86-d0890cac17d6>\u001b[0m in \u001b[0;36m<module>\u001b[0;34m\u001b[0m\n\u001b[1;32m      4\u001b[0m \u001b[0;32mdel\u001b[0m \u001b[0mtestvar\u001b[0m\u001b[0;34m\u001b[0m\u001b[0;34m\u001b[0m\u001b[0m\n\u001b[1;32m      5\u001b[0m \u001b[0;31m#this calls an error, because its been deleted:\u001b[0m\u001b[0;34m\u001b[0m\u001b[0;34m\u001b[0m\u001b[0;34m\u001b[0m\u001b[0m\n\u001b[0;32m----> 6\u001b[0;31m \u001b[0mprint\u001b[0m\u001b[0;34m(\u001b[0m\u001b[0mtestvar\u001b[0m\u001b[0;34m)\u001b[0m\u001b[0;34m\u001b[0m\u001b[0;34m\u001b[0m\u001b[0m\n\u001b[0m",
      "\u001b[0;31mNameError\u001b[0m: name 'testvar' is not defined"
     ]
    }
   ],
   "source": [
    "testvar = 5\n",
    "print(testvar)\n",
    "\n",
    "del testvar\n",
    "#this calls an error, because its been deleted:\n",
    "print(testvar)"
   ]
  },
  {
   "cell_type": "markdown",
   "metadata": {},
   "source": [
    "## Classes and Objects\n",
    "\n",
    "Everything belongs to some *class* (strings belong to class string etc.).\n",
    "\n",
    "E.g. we want to list all different types of Dogs with their features (name, breed, colour, weight, diet etc.). \n",
    "We can capture this in a class named `Dog()`. The class `Dog()` might specify that the name, breed, colour etc. are necessary for defining the dog, but it will not actually state what a  specific dog's name, breed, colour etc. is.\n",
    "\n",
    "*The class is a blueprint*, an instance is a copy of a class with *actual values*.\n",
    "\n",
    "```\n",
    "> class Dog:\n",
    ">   pass\n",
    "```\n",
    "\n",
    "Keyword `class` is needed, the name of the class `Dog` follows. \n",
    "The place holder `pass` is where code will eventually go. It allows us to run this code without throwing an error.\n",
    "\n",
    "Note: on Python2, defining a class is a bit different:\n",
    "\n",
    "```\n",
    "> class Dog(object):\n",
    ">   pass\n",
    "```"
   ]
  },
  {
   "cell_type": "code",
   "execution_count": 87,
   "metadata": {},
   "outputs": [],
   "source": [
    "class Dog:\n",
    "    pass"
   ]
  },
  {
   "cell_type": "markdown",
   "metadata": {},
   "source": [
    "All classes create objects with attributes.\n",
    "\n",
    "`__init__()` initializes an object initial default attributes, i.e. defines the arguments of a dog. It gets called everytime a new object is instanciated and attaches the attributes to the new object.\n",
    "\n",
    " `self` refers to the certain object that is instanciated (e.g. InspectorRex, Belle, Struppi) and doesn't need to be passed as an argument to `__init__`, since Python automatically knows that the new object is of class `Dog`."
   ]
  },
  {
   "cell_type": "code",
   "execution_count": 88,
   "metadata": {},
   "outputs": [],
   "source": [
    "class Dog:\n",
    "\n",
    "    def __init__(self, name, breed, colour, weight, diet):\n",
    "        self.name = name\n",
    "        self.breed = breed\n",
    "        self.colour = colour\n",
    "        self.weight = weight\n",
    "        self.diet = diet"
   ]
  },
  {
   "cell_type": "markdown",
   "metadata": {},
   "source": [
    "Class attributes:\n",
    "\n",
    "Attributes that are global and apply to all objects of a class, as they are outside of the `__init__` function."
   ]
  },
  {
   "cell_type": "code",
   "execution_count": 89,
   "metadata": {},
   "outputs": [],
   "source": [
    "class Dog:\n",
    "\n",
    "    #class attribute:\n",
    "    legs=4\n",
    "\n",
    "    #Instance attributes:\n",
    "    def __init__(self, name, breed, colour, weight, diet):\n",
    "        self.name = name\n",
    "        self.breed = breed\n",
    "        self.colour = colour\n",
    "        self.weight = weight\n",
    "        self.diet = diet"
   ]
  },
  {
   "cell_type": "markdown",
   "metadata": {},
   "source": [
    "## Instantiating objects"
   ]
  },
  {
   "cell_type": "code",
   "execution_count": 90,
   "metadata": {},
   "outputs": [],
   "source": [
    "#Creating an object, the dog Inspector Rex:\n",
    "InspectorRex = Dog(name='Rex', breed='German Sheppard', colour='brown and yellow', weight=50, diet='meat')\n",
    "\n",
    "#Creating the dog Belle:\n",
    "Belle = Dog(name='Belle', breed='Shetland Sheep Dog', colour='light brown', weight=10, diet='vegetarian')\n",
    "\n",
    "#Creating the dog Struppi:\n",
    "Struppi = Dog(name='Struppi', breed='Little white dog', colour='white', weight=10, diet='biscuits')"
   ]
  },
  {
   "cell_type": "code",
   "execution_count": 91,
   "metadata": {
    "tags": []
   },
   "outputs": [
    {
     "output_type": "stream",
     "name": "stdout",
     "text": "Rex\nlight brown\nbiscuits\n4\n<class '__main__.Dog'>\n"
    }
   ],
   "source": [
    "#Accessing attributes:\n",
    "\n",
    "print(InspectorRex.name)\n",
    "print(Belle.colour)\n",
    "print(Struppi.diet)\n",
    "print(Belle.legs)\n",
    "\n",
    "print(type(Belle))"
   ]
  },
  {
   "cell_type": "code",
   "execution_count": 92,
   "metadata": {
    "tags": []
   },
   "outputs": [
    {
     "output_type": "stream",
     "name": "stdout",
     "text": "Belle is a Shetland Sheep Dog with 4 legs and light brown colour, weighs 10 Kilos and eats vegetarian\n"
    }
   ],
   "source": [
    "print(\"{} is a {} with {} legs and {} colour, weighs {} Kilos and eats {}\".format(Belle.name, Belle.breed, Belle.legs, Belle.colour, Belle.weight, Belle.diet))"
   ]
  },
  {
   "cell_type": "markdown",
   "metadata": {},
   "source": [
    "## Instance Methods\n",
    "\n",
    "Instance methods are functions *within* classes to perform operations on object's attributes. \n",
    "\n",
    "The first argument of an instance method is `self`, and the instance method is called by `object_name.method()`"
   ]
  },
  {
   "cell_type": "code",
   "execution_count": 93,
   "metadata": {
    "tags": []
   },
   "outputs": [
    {
     "output_type": "stream",
     "name": "stdout",
     "text": "Belle is a Shetland Sheep Dog with 4 legs and light brown colour, weighs 10 Kilos and eats vegetarian\nBelle barks wa wa\n"
    }
   ],
   "source": [
    "class Dog:\n",
    "\n",
    "    #class attribute:\n",
    "    legs=4\n",
    "\n",
    "    #Instance attributes:\n",
    "    def __init__(self, name, breed, colour, weight, diet):\n",
    "        self.name = name\n",
    "        self.breed = breed\n",
    "        self.colour = colour\n",
    "        self.weight = weight\n",
    "        self.diet = diet\n",
    "    \n",
    "\n",
    "    def description(self):\n",
    "        return \"{} is a {} with {} legs and {} colour, weighs {} Kilos and eats {}\".format(self.name, self.breed, self.legs, self.colour, self.weight, self.diet)\n",
    "    \n",
    "    def bark(self, sound):\n",
    "        return \"{} barks {}\".format(self.name, sound)\n",
    "    \n",
    "\n",
    "\n",
    "InspectorRex = Dog(name='Rex', breed='German Sheppard', colour='brown and yellow', weight=50, diet='meat')\n",
    "Belle = Dog(name='Belle', breed='Shetland Sheep Dog', colour='light brown', weight=10, diet='vegetarian')\n",
    "Struppi = Dog(name='Struppi', breed='Little white dog', colour='white', weight=10, diet='biscuits')\n",
    "\n",
    "print(Belle.description())\n",
    "print(Belle.bark(\"wa wa\"))"
   ]
  },
  {
   "cell_type": "markdown",
   "metadata": {},
   "source": [
    "## Inheritance\n",
    "\n",
    "We can create a child class that inherits all the attributes and methods of the parents class:\n",
    "\n",
    "```\n",
    "> class childclass_name(parentclass_name):\n",
    "    pass\n",
    "```\n",
    "\n",
    "The child class either overwrittes the parent class attributes and methods with own ones, or extends them. \n"
   ]
  },
  {
   "cell_type": "code",
   "execution_count": 94,
   "metadata": {
    "tags": []
   },
   "outputs": [
    {
     "output_type": "stream",
     "name": "stdout",
     "text": "Rex is a German Sheppard with 4 legs and brown and yellow colour, weighs 50 Kilos and eats meat\nRex barks WAU!\nRex is as fast as 40 km/h\n"
    },
    {
     "output_type": "execute_result",
     "data": {
      "text/plain": "'Boulevard'"
     },
     "metadata": {},
     "execution_count": 94
    }
   ],
   "source": [
    "class Dog:\n",
    "\n",
    "    #class attribute:\n",
    "    legs=4\n",
    "\n",
    "    #Instance attributes:\n",
    "    def __init__(self, name, breed, colour, weight, diet):\n",
    "        self.name = name\n",
    "        self.breed = breed\n",
    "        self.colour = colour\n",
    "        self.weight = weight\n",
    "        self.diet = diet\n",
    "    \n",
    "\n",
    "    def description(self):\n",
    "        return \"{} is a {} with {} legs and {} colour, weighs {} Kilos and eats {}\".format(self.name, self.breed, self.legs, self.colour, self.weight, self.diet)\n",
    "    \n",
    "    def bark(self, sound):\n",
    "        return \"{} barks {}\".format(self.name, sound)\n",
    "\n",
    "#Child class of parent class 'Dog' extends the class:\n",
    "class PoliceDog(Dog):\n",
    "\n",
    "    def run(self, speed):\n",
    "        return \"{} is as fast as {} km/h\".format(self.name, speed)\n",
    "\n",
    "\n",
    "#Child class of parent class 'Dog' that overwrittes the parent __init__:\n",
    "class HomelessDog(Dog):\n",
    "\n",
    "    def __init__(self, street):\n",
    "        self.street = street    \n",
    "    \n",
    "\n",
    "#Instantiate new child class:\n",
    "InspectorRex = PoliceDog(name='Rex', breed='German Sheppard', colour='brown and yellow', weight=50, diet='meat')\n",
    "\n",
    "#New child class:\n",
    "print(InspectorRex.description())\n",
    "\n",
    "#Inherited parent class method:\n",
    "print(InspectorRex.bark(\"WAU!\"))\n",
    "\n",
    "#has own method:\n",
    "print(InspectorRex.run(40))\n",
    "\n",
    "#Calls an error, because parent __init__ is overwritten with child __init__:\n",
    "#Stitch = HomelessDog(name='Stich', breed='Beagle', colour='grey', weight=40, diet='rubbish', street='Boulevard')\n",
    "Stitch = HomelessDog(street='Boulevard')\n",
    "Stitch.street"
   ]
  }
 ],
 "metadata": {
  "language_info": {
   "name": "python",
   "codemirror_mode": {
    "name": "ipython",
    "version": 3
   },
   "version": "3.8.2-final"
  },
  "orig_nbformat": 2,
  "file_extension": ".py",
  "mimetype": "text/x-python",
  "name": "python",
  "npconvert_exporter": "python",
  "pygments_lexer": "ipython3",
  "version": 3,
  "kernelspec": {
   "name": "python38264bit0d0d411bb8d84c52ba204b655b6ae5a5",
   "display_name": "Python 3.8.2 64-bit"
  }
 },
 "nbformat": 4,
 "nbformat_minor": 2
}