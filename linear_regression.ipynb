{
 "nbformat": 4,
 "nbformat_minor": 2,
 "metadata": {
  "language_info": {
   "name": "python",
   "codemirror_mode": {
    "name": "ipython",
    "version": 3
   },
   "version": "3.6.7"
  },
  "orig_nbformat": 2,
  "file_extension": ".py",
  "mimetype": "text/x-python",
  "name": "python",
  "npconvert_exporter": "python",
  "pygments_lexer": "ipython3",
  "version": 3
 },
 "cells": [
  {
   "cell_type": "code",
   "execution_count": 2,
   "metadata": {},
   "outputs": [],
   "source": [
    "import pandas as pd\n",
    "import numpy as numpy\n",
    "import scipy.stats\n"
   ]
  },
  {
   "cell_type": "code",
   "execution_count": 9,
   "metadata": {},
   "outputs": [
    {
     "name": "stdout",
     "output_type": "stream",
     "text": "Empty DataFrame\nColumns: [x, y]\nIndex: []\n"
    },
    {
     "data": {
      "text/plain": "array([ 0.78485063,  0.2092947 ,  0.60844269, -0.20025324,  1.38543715,\n       -0.51350973, -0.5733244 ,  0.05797785, -1.11858884, -0.5501856 ])"
     },
     "execution_count": 9,
     "metadata": {},
     "output_type": "execute_result"
    }
   ],
   "source": [
    "df = pd.DataFrame(columns=['x','y'])\n",
    "print(df)\n",
    "\n",
    "#x_norm = np.linspace(-5,5,300)\n",
    "\n",
    "#st_norm_distr = scipy.stats.norm.rvs(size=10)\n",
    "X = 2 + scipy.stats.norm.rvs(size=10)\n",
    "\n",
    "st_norm_distr\n",
    "\n",
    "\n",
    "#array of 10 random realisations of standard normal distribution:\n"
   ]
  }
 ]
}